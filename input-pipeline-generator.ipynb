{
 "cells": [
  {
   "cell_type": "code",
   "execution_count": 1,
   "metadata": {},
   "outputs": [],
   "source": [
    "%load_ext autoreload\n",
    "%autoreload 2"
   ]
  },
  {
   "cell_type": "code",
   "execution_count": 67,
   "metadata": {},
   "outputs": [
    {
     "data": {
      "text/plain": [
       "'1.13.1'"
      ]
     },
     "execution_count": 67,
     "metadata": {},
     "output_type": "execute_result"
    }
   ],
   "source": [
    "import tensorflow as tf\n",
    "import pandas as pd\n",
    "import matplotlib.pyplot as plt\n",
    "import numpy as np\n",
    "from tensorflow.keras import layers\n",
    "\n",
    "tf.enable_eager_execution()\n",
    "pd.set_option('float_format', '{:f}'.format)\n",
    "tf.__version__"
   ]
  },
  {
   "cell_type": "code",
   "execution_count": 3,
   "metadata": {},
   "outputs": [
    {
     "name": "stdout",
     "output_type": "stream",
     "text": [
      "Wall time: 36.7 s\n"
     ]
    }
   ],
   "source": [
    "%%time\n",
    "df_meta = pd.read_csv('item_metadata.csv', index_col='item_id')\n",
    "df_train = pd.read_csv('train.csv')"
   ]
  },
  {
   "cell_type": "code",
   "execution_count": 4,
   "metadata": {},
   "outputs": [
    {
     "name": "stdout",
     "output_type": "stream",
     "text": [
      "Wall time: 1.36 s\n"
     ]
    }
   ],
   "source": [
    "%%time\n",
    "max_meta_len = df_meta['properties'].apply(lambda prop: len(prop.split('|'))).max()\n",
    "max_meta_len"
   ]
  },
  {
   "cell_type": "code",
   "execution_count": 13,
   "metadata": {},
   "outputs": [],
   "source": [
    "class FastLabelEncoder:\n",
    "    def __init__(self):\n",
    "        self.token_to_id = dict()\n",
    "        self.id_to_token = dict()\n",
    "        self.unk_id = 1\n",
    "        self.pad_id = 0\n",
    "        self.current_id = 2\n",
    "\n",
    "    def __len__(self):\n",
    "        return len(self.token_to_id)\n",
    "\n",
    "    def _pad(self, seq, pad):\n",
    "        if pad < 0: return seq\n",
    "        if len(seq) > pad: return seq[:pad]\n",
    "        return seq + [self.pad_id] * (pad - len(seq))\n",
    "\n",
    "    def fit(self, X):\n",
    "        for row in X:\n",
    "            for token in row:\n",
    "                if token not in self.token_to_id:\n",
    "                    self.token_to_id[token] = self.current_id\n",
    "                    self.id_to_token[self.current_id] = token\n",
    "                    self.current_id += 1\n",
    "\n",
    "        return self\n",
    "\n",
    "    def transform(self, X, pad=-1):\n",
    "        return np.array([self._pad([\n",
    "              self.token_to_id[token] if token in self.token_to_id else self.unk_id\n",
    "              for token in row\n",
    "        ], pad) for row in X])\n",
    "        \n",
    "    def fit_transform(self, X, pad=-1):\n",
    "        return self.fit(X).transform(X, pad)"
   ]
  },
  {
   "cell_type": "code",
   "execution_count": 36,
   "metadata": {},
   "outputs": [],
   "source": [
    "class Input:\n",
    "    col_shapes = {\n",
    "        'type': tf.TensorShape([None]),\n",
    "        'value': tf.TensorShape([None, max_meta_len]),\n",
    "        'impr': tf.TensorShape([None]),\n",
    "        'label': tf.TensorShape([])\n",
    "    }\n",
    "    out_shapes = tuple(v for k, v in col_shapes.items())\n",
    "\n",
    "    def __init__(self):\n",
    "        self.action_types_encoder = FastLabelEncoder()\n",
    "        self.action_vals_encoder = FastLabelEncoder()\n",
    "        self.impressions_encoder = FastLabelEncoder()\n",
    "        self.labels_encoder = FastLabelEncoder()\n",
    "\n",
    "    def generator(self):\n",
    "        last_session_id = None\n",
    "        action_types = []\n",
    "        action_vals = []\n",
    "        MISSING_REF_VAL = '?'\n",
    "\n",
    "        for _, row in df_train.iterrows():\n",
    "            if row['session_id'] != last_session_id:\n",
    "                action_types = []\n",
    "                action_vals = []\n",
    "\n",
    "            action_val = row['reference']\n",
    "\n",
    "            if row['action_type'] != 'clickout item':\n",
    "                action_types.append(row['action_type'])\n",
    "\n",
    "                if action_val.isdigit():\n",
    "                    int_id = int(action_val)\n",
    "                    if int_id in df_meta.index:\n",
    "                        action_vals.append(df_meta.loc[int_id]['properties'].split('|'))\n",
    "                    else:\n",
    "                        action_vals.append([int_id])\n",
    "                else:\n",
    "                    action_vals.append([action_val])\n",
    "            else:\n",
    "                yield self.action_types_encoder.fit_transform([action_types])[0], \\\n",
    "                      self.action_vals_encoder.fit_transform(action_vals, pad=max_meta_len), \\\n",
    "                      self.impressions_encoder.fit_transform([row['impressions'].split('|')])[0], \\\n",
    "                      self.labels_encoder.fit_transform([[int(action_val)]])[0][0]\n",
    "\n",
    "            last_session_id = row['session_id']\n",
    "\n",
    "    def as_dataset(self, batch_size):\n",
    "        dataset = tf.data.Dataset.from_generator(\n",
    "            self.generator,\n",
    "            (tf.int32,) * 4,\n",
    "            self.out_shapes\n",
    "        )\n",
    "\n",
    "        dataset = dataset.padded_batch(batch_size, padded_shapes=self.out_shapes)\n",
    "\n",
    "        return dataset"
   ]
  },
  {
   "cell_type": "code",
   "execution_count": 8,
   "metadata": {},
   "outputs": [
    {
     "data": {
      "text/plain": [
       "(array([2, 3, 3, 3, 3, 3, 3, 3, 3, 3, 3, 3, 3]),\n",
       " array([[ 2,  0,  0, ...,  0,  0,  0],\n",
       "        [ 3,  4,  5, ...,  0,  0,  0],\n",
       "        [ 3,  4,  5, ...,  0,  0,  0],\n",
       "        ...,\n",
       "        [28, 29, 30, ...,  0,  0,  0],\n",
       "        [28, 29, 30, ...,  0,  0,  0],\n",
       "        [28, 29, 30, ...,  0,  0,  0]]),\n",
       " array([ 2,  3,  4,  5,  6,  7,  8,  9, 10, 11, 12, 13, 14, 15, 16, 17, 18,\n",
       "        19, 20, 21, 22, 23, 24, 25, 26]),\n",
       " 2)"
      ]
     },
     "execution_count": 8,
     "metadata": {},
     "output_type": "execute_result"
    }
   ],
   "source": [
    "next(Input().generator())"
   ]
  },
  {
   "cell_type": "code",
   "execution_count": 9,
   "metadata": {},
   "outputs": [
    {
     "name": "stdout",
     "output_type": "stream",
     "text": [
      "Wall time: 12.5 s\n"
     ]
    }
   ],
   "source": [
    "%%time\n",
    "i = Input().generator()\n",
    "next(i)\n",
    "for _ in range(5000):\n",
    "    next(i)"
   ]
  },
  {
   "cell_type": "markdown",
   "metadata": {},
   "source": [
    "too slow \n",
    "\n",
    "https://stackoverflow.com/questions/24870953/does-pandas-iterrows-have-performance-issues"
   ]
  },
  {
   "cell_type": "code",
   "execution_count": 10,
   "metadata": {},
   "outputs": [
    {
     "name": "stdout",
     "output_type": "stream",
     "text": [
      "WARNING:tensorflow:From C:\\Users\\i4ko9\\Anaconda3\\lib\\site-packages\\tensorflow\\python\\data\\ops\\dataset_ops.py:429: py_func (from tensorflow.python.ops.script_ops) is deprecated and will be removed in a future version.\n",
      "Instructions for updating:\n",
      "tf.py_func is deprecated in TF V2. Instead, use\n",
      "    tf.py_function, which takes a python function which manipulates tf eager\n",
      "    tensors instead of numpy arrays. It's easy to convert a tf eager tensor to\n",
      "    an ndarray (just call tensor.numpy()) but having access to eager tensors\n",
      "    means `tf.py_function`s can use accelerators such as GPUs as well as\n",
      "    being differentiable using a gradient tape.\n",
      "    \n"
     ]
    }
   ],
   "source": [
    "inp = Input()\n",
    "dataset = inp.as_dataset(batch_size=3)"
   ]
  },
  {
   "cell_type": "code",
   "execution_count": 11,
   "metadata": {},
   "outputs": [
    {
     "name": "stdout",
     "output_type": "stream",
     "text": [
      "WARNING:tensorflow:From C:\\Users\\i4ko9\\Anaconda3\\lib\\site-packages\\tensorflow\\python\\data\\ops\\iterator_ops.py:532: colocate_with (from tensorflow.python.framework.ops) is deprecated and will be removed in a future version.\n",
      "Instructions for updating:\n",
      "Colocations handled automatically by placer.\n"
     ]
    },
    {
     "data": {
      "text/plain": [
       "(<tf.Tensor: id=47, shape=(3, 34), dtype=int32, numpy=\n",
       " array([[2, 3, 3, 3, 3, 3, 3, 3, 3, 3, 3, 3, 3, 0, 0, 0, 0, 0, 0, 0, 0, 0,\n",
       "         0, 0, 0, 0, 0, 0, 0, 0, 0, 0, 0, 0],\n",
       "        [2, 3, 3, 3, 3, 3, 3, 3, 3, 3, 3, 3, 3, 2, 0, 0, 0, 0, 0, 0, 0, 0,\n",
       "         0, 0, 0, 0, 0, 0, 0, 0, 0, 0, 0, 0],\n",
       "        [3, 3, 3, 3, 3, 3, 3, 3, 3, 3, 3, 3, 3, 3, 3, 3, 3, 3, 3, 3, 3, 3,\n",
       "         3, 3, 3, 3, 3, 3, 3, 3, 3, 3, 3, 4]])>,\n",
       " <tf.Tensor: id=48, shape=(3, 34, 112), dtype=int32, numpy=\n",
       " array([[[ 2,  0,  0, ...,  0,  0,  0],\n",
       "         [ 3,  4,  5, ...,  0,  0,  0],\n",
       "         [ 3,  4,  5, ...,  0,  0,  0],\n",
       "         ...,\n",
       "         [ 0,  0,  0, ...,  0,  0,  0],\n",
       "         [ 0,  0,  0, ...,  0,  0,  0],\n",
       "         [ 0,  0,  0, ...,  0,  0,  0]],\n",
       " \n",
       "        [[ 2,  0,  0, ...,  0,  0,  0],\n",
       "         [ 3,  4,  5, ...,  0,  0,  0],\n",
       "         [ 3,  4,  5, ...,  0,  0,  0],\n",
       "         ...,\n",
       "         [ 0,  0,  0, ...,  0,  0,  0],\n",
       "         [ 0,  0,  0, ...,  0,  0,  0],\n",
       "         [ 0,  0,  0, ...,  0,  0,  0]],\n",
       " \n",
       "        [[54, 66, 67, ...,  0,  0,  0],\n",
       "         [54, 66, 67, ...,  0,  0,  0],\n",
       "         [54, 66, 67, ...,  0,  0,  0],\n",
       "         ...,\n",
       "         [54, 66, 67, ...,  0,  0,  0],\n",
       "         [54, 66, 67, ...,  0,  0,  0],\n",
       "         [54, 66, 67, ...,  0,  0,  0]]])>,\n",
       " <tf.Tensor: id=49, shape=(3, 25), dtype=int32, numpy=\n",
       " array([[ 2,  3,  4,  5,  6,  7,  8,  9, 10, 11, 12, 13, 14, 15, 16, 17,\n",
       "         18, 19, 20, 21, 22, 23, 24, 25, 26],\n",
       "        [27, 15, 28, 29, 30, 25, 31, 23, 32,  7,  8, 24, 33, 13, 34, 35,\n",
       "         36, 20, 37, 38, 39, 40, 41, 42, 21],\n",
       "        [43, 44, 45, 46, 47, 48, 49, 50, 51, 52, 53, 54, 55, 56, 57, 58,\n",
       "         59, 60, 61, 62, 63, 64, 65, 66, 67]])>,\n",
       " <tf.Tensor: id=50, shape=(3,), dtype=int32, numpy=array([2, 3, 4])>)"
      ]
     },
     "execution_count": 11,
     "metadata": {},
     "output_type": "execute_result"
    }
   ],
   "source": [
    "dataset.make_one_shot_iterator().get_next()"
   ]
  },
  {
   "cell_type": "markdown",
   "metadata": {},
   "source": [
    "---"
   ]
  },
  {
   "cell_type": "code",
   "execution_count": 81,
   "metadata": {},
   "outputs": [],
   "source": [
    "action_type_emb_size = 20\n",
    "action_val_emb_size = 20\n",
    "output_emb_size = 20\n",
    "\n",
    "input_action_type = layers.Input(shape=Input.col_shapes['type'])\n",
    "input_action_val = layers.Input(shape=Input.col_shapes['value'])\n",
    "label = layers.Input(shape=Input.col_shapes['label'])\n",
    "\n",
    "embedding_action_type = layers.Embedding(input_dim=len(inp.action_types_encoder),\n",
    "                                         output_dim=action_type_emb_size,\n",
    "                                         mask_zero=True)(input_action_type)\n",
    "\n",
    "embedding_action_val = layers.Embedding(input_dim=len(inp.action_vals_encoder),\n",
    "                                         output_dim=action_val_emb_size,\n",
    "                                         mask_zero=True)(input_action_val)\n",
    "\n",
    "embedding_output = layers.Embedding(input_dim=len(inp.labels_encoder),\n",
    "                                    output_dim=output_emb_size,\n",
    "                                    mask_zero=True)(label)\n",
    "\n",
    "dimension_of_seq_features = 2\n",
    "embedding_action_val_reduced = tf.reduce_mean(embedding_action_val, dimension_of_seq_features)\n",
    "\n",
    "embedding_input = layers.Concatenate(axis=2)([embedding_action_type, embedding_action_val_reduced])"
   ]
  },
  {
   "cell_type": "code",
   "execution_count": 63,
   "metadata": {},
   "outputs": [
    {
     "data": {
      "text/plain": [
       "(<tf.Tensor 'concat_8:0' shape=(?, ?, 40) dtype=float32>,\n",
       " <tf.Tensor 'embedding_lookup_27/Identity_2:0' shape=(?, 20) dtype=float32>)"
      ]
     },
     "execution_count": 63,
     "metadata": {},
     "output_type": "execute_result"
    }
   ],
   "source": [
    "# (batch, sequence, embedding of items in sequence)\n",
    "input_embedding, embedding_output"
   ]
  },
  {
   "cell_type": "code",
   "execution_count": 51,
   "metadata": {},
   "outputs": [],
   "source": [
    "import SASRec.modules as sas_module"
   ]
  },
  {
   "cell_type": "code",
   "execution_count": 78,
   "metadata": {},
   "outputs": [
    {
     "ename": "AttributeError",
     "evalue": "'Tensor' object has no attribute '_copy'",
     "output_type": "error",
     "traceback": [
      "\u001b[1;31m---------------------------------------------------------------------------\u001b[0m",
      "\u001b[1;31mAttributeError\u001b[0m                            Traceback (most recent call last)",
      "\u001b[1;32m<ipython-input-78-01417d590377>\u001b[0m in \u001b[0;36m<module>\u001b[1;34m\u001b[0m\n\u001b[0;32m     19\u001b[0m             \u001b[0mis_training\u001b[0m\u001b[1;33m=\u001b[0m\u001b[0mis_training\u001b[0m\u001b[1;33m,\u001b[0m\u001b[1;33m\u001b[0m\u001b[1;33m\u001b[0m\u001b[0m\n\u001b[0;32m     20\u001b[0m             \u001b[0mcausality\u001b[0m\u001b[1;33m=\u001b[0m\u001b[1;32mTrue\u001b[0m\u001b[1;33m,\u001b[0m\u001b[1;33m\u001b[0m\u001b[1;33m\u001b[0m\u001b[0m\n\u001b[1;32m---> 21\u001b[1;33m             \u001b[0mscope\u001b[0m\u001b[1;33m=\u001b[0m\u001b[1;34m'self_attention'\u001b[0m\u001b[1;33m\u001b[0m\u001b[1;33m\u001b[0m\u001b[0m\n\u001b[0m\u001b[0;32m     22\u001b[0m         )\n\u001b[0;32m     23\u001b[0m \u001b[1;33m\u001b[0m\u001b[0m\n",
      "\u001b[1;32m~\\workspace\\recsys.trivago\\SASRec\\modules.py\u001b[0m in \u001b[0;36mmultihead_attention\u001b[1;34m(queries, keys, num_units, num_heads, dropout_rate, is_training, causality, scope, reuse, with_qk)\u001b[0m\n\u001b[0;32m    178\u001b[0m         \u001b[1;31m# Split and concat\u001b[0m\u001b[1;33m\u001b[0m\u001b[1;33m\u001b[0m\u001b[1;33m\u001b[0m\u001b[0m\n\u001b[0;32m    179\u001b[0m         Q_ = tf.concat(tf.split(Q, num_heads, axis=2),\n\u001b[1;32m--> 180\u001b[1;33m                        axis=0)  # (h*N, T_q, C/h)\n\u001b[0m\u001b[0;32m    181\u001b[0m         K_ = tf.concat(tf.split(K, num_heads, axis=2),\n\u001b[0;32m    182\u001b[0m                        axis=0)  # (h*N, T_k, C/h)\n",
      "\u001b[1;32m~\\Anaconda3\\lib\\site-packages\\tensorflow\\python\\util\\dispatch.py\u001b[0m in \u001b[0;36mwrapper\u001b[1;34m(*args, **kwargs)\u001b[0m\n",
      "\u001b[1;32m~\\Anaconda3\\lib\\site-packages\\tensorflow\\python\\ops\\array_ops.py\u001b[0m in \u001b[0;36mconcat\u001b[1;34m(values, axis, name)\u001b[0m\n",
      "\u001b[1;32m~\\Anaconda3\\lib\\site-packages\\tensorflow\\python\\util\\dispatch.py\u001b[0m in \u001b[0;36mwrapper\u001b[1;34m(*args, **kwargs)\u001b[0m\n",
      "\u001b[1;32m~\\Anaconda3\\lib\\site-packages\\tensorflow\\python\\ops\\array_ops.py\u001b[0m in \u001b[0;36midentity\u001b[1;34m(input, name)\u001b[0m\n",
      "\u001b[1;31mAttributeError\u001b[0m: 'Tensor' object has no attribute '_copy'"
     ]
    }
   ],
   "source": [
    "num_blocks = 2\n",
    "hidden_units = 40\n",
    "num_heads = 1\n",
    "dropout_rate = 0.5\n",
    "is_training = True\n",
    "\n",
    "seq = input_embedding\n",
    "mask = tf.to_float(tf.not_equal(input_embedding, 0))\n",
    "\n",
    "for i in range(num_blocks):\n",
    "    with tf.variable_scope('num_blocks_%d' % i):\n",
    "        # self-attention\n",
    "        seq = sas_module.multihead_attention(\n",
    "            queries=normalize(seq),\n",
    "            keys=seq,\n",
    "            num_units=hidden_units,\n",
    "            num_heads=num_heads,\n",
    "            dropout_rate=dropout_rate,\n",
    "            is_training=is_training,\n",
    "            causality=True,\n",
    "            scope='self_attention'\n",
    "        )\n",
    "\n",
    "        # Feed forward\n",
    "        seq = sas_module.feedforward(\n",
    "            normalize(seq),\n",
    "            num_units=[hidden_units, hidden_units],\n",
    "            dropout_rate=dropout_rate,\n",
    "            is_training=is_training\n",
    "        )\n",
    "\n",
    "        seq *= mask\n",
    "\n",
    "seq = sas_module.normalize(seq)"
   ]
  }
 ],
 "metadata": {
  "kernelspec": {
   "display_name": "Python 3",
   "language": "python",
   "name": "python3"
  },
  "language_info": {
   "codemirror_mode": {
    "name": "ipython",
    "version": 3
   },
   "file_extension": ".py",
   "mimetype": "text/x-python",
   "name": "python",
   "nbconvert_exporter": "python",
   "pygments_lexer": "ipython3",
   "version": "3.7.1"
  }
 },
 "nbformat": 4,
 "nbformat_minor": 2
}
