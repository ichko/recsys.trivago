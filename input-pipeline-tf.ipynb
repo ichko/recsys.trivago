{
 "cells": [
  {
   "cell_type": "code",
   "execution_count": 5,
   "metadata": {},
   "outputs": [
    {
     "data": {
      "text/plain": [
       "'1.13.1'"
      ]
     },
     "execution_count": 5,
     "metadata": {},
     "output_type": "execute_result"
    }
   ],
   "source": [
    "%load_ext autoreload\n",
    "%autoreload 2\n",
    "\n",
    "import tensorflow as tf\n",
    "import pandas as pd\n",
    "import matplotlib.pyplot as plt\n",
    "import numpy as np\n",
    "\n",
    "pd.set_option('float_format', '{:f}'.format)\n",
    "\n",
    "tf.enable_eager_execution()\n",
    "tf.__version__"
   ]
  },
  {
   "cell_type": "code",
   "execution_count": 6,
   "metadata": {},
   "outputs": [],
   "source": [
    "sess = tf.Session()"
   ]
  },
  {
   "cell_type": "code",
   "execution_count": 18,
   "metadata": {},
   "outputs": [],
   "source": [
    "meta_dataset = tf.data.experimental.CsvDataset(\n",
    "    ['item_metadata.csv'],\n",
    "    [tf.int32, tf.string],\n",
    "    header=True\n",
    ")\n",
    "\n",
    "meta_dataset = meta_dataset.map(lambda idx, row: (idx, tf.string_split([row], '|')))"
   ]
  },
  {
   "cell_type": "code",
   "execution_count": 25,
   "metadata": {},
   "outputs": [],
   "source": [
    "def map_impressions(a, b, c, impressions):\n",
    "    return a, b, c, tf.string_split([impressions], '|')"
   ]
  },
  {
   "cell_type": "code",
   "execution_count": 29,
   "metadata": {},
   "outputs": [],
   "source": [
    "train_ds = tf.data.experimental.CsvDataset(\n",
    "    ['train.csv'],\n",
    "    [tf.string, tf.string, tf.string, ''],\n",
    "    select_cols=[1, 4, 5, 10],\n",
    "    header=True\n",
    ")\n",
    "\n",
    "train_ds = train_ds.map(map_impressions)"
   ]
  },
  {
   "cell_type": "code",
   "execution_count": 30,
   "metadata": {},
   "outputs": [
    {
     "name": "stdout",
     "output_type": "stream",
     "text": [
      "(<tf.Tensor: id=173, shape=(), dtype=string, numpy=b'aff3928535f48'>, <tf.Tensor: id=174, shape=(), dtype=string, numpy=b'search for poi'>, <tf.Tensor: id=175, shape=(), dtype=string, numpy=b'Newtown'>, <tensorflow.python.framework.sparse_tensor.SparseTensor object at 0x000001E6E83A6898>)\n",
      "(<tf.Tensor: id=183, shape=(), dtype=string, numpy=b'aff3928535f48'>, <tf.Tensor: id=184, shape=(), dtype=string, numpy=b'interaction item image'>, <tf.Tensor: id=185, shape=(), dtype=string, numpy=b'666856'>, <tensorflow.python.framework.sparse_tensor.SparseTensor object at 0x000001E6E83A6DA0>)\n"
     ]
    }
   ],
   "source": [
    "i = train_ds.make_one_shot_iterator()\n",
    "for _ in range(2):\n",
    "    print(i.get_next())"
   ]
  }
 ],
 "metadata": {
  "kernelspec": {
   "display_name": "Python 3",
   "language": "python",
   "name": "python3"
  },
  "language_info": {
   "codemirror_mode": {
    "name": "ipython",
    "version": 3
   },
   "file_extension": ".py",
   "mimetype": "text/x-python",
   "name": "python",
   "nbconvert_exporter": "python",
   "pygments_lexer": "ipython3",
   "version": "3.7.1"
  }
 },
 "nbformat": 4,
 "nbformat_minor": 2
}
