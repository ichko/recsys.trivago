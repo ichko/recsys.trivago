{
 "cells": [
  {
   "cell_type": "code",
   "execution_count": 1,
   "metadata": {},
   "outputs": [],
   "source": [
    "%load_ext autoreload\n",
    "%autoreload 2"
   ]
  },
  {
   "cell_type": "code",
   "execution_count": 2,
   "metadata": {},
   "outputs": [
    {
     "data": {
      "text/plain": [
       "'1.13.1'"
      ]
     },
     "execution_count": 2,
     "metadata": {},
     "output_type": "execute_result"
    }
   ],
   "source": [
    "import tensorflow as tf\n",
    "import pandas as pd\n",
    "import matplotlib.pyplot as plt\n",
    "import numpy as np\n",
    "from tensorflow.keras import layers\n",
    "\n",
    "# tf.enable_eager_execution()\n",
    "pd.set_option('float_format', '{:f}'.format)\n",
    "tf.__version__"
   ]
  },
  {
   "cell_type": "code",
   "execution_count": 4,
   "metadata": {},
   "outputs": [
    {
     "name": "stdout",
     "output_type": "stream",
     "text": [
      "CPU times: user 27.7 s, sys: 2.5 s, total: 30.2 s\n",
      "Wall time: 30.3 s\n"
     ]
    }
   ],
   "source": [
    "%%time\n",
    "df_meta = pd.read_csv('item_metadata.csv', index_col='item_id')\n",
    "df_train = pd.read_csv('train.csv')"
   ]
  },
  {
   "cell_type": "code",
   "execution_count": 5,
   "metadata": {},
   "outputs": [
    {
     "name": "stdout",
     "output_type": "stream",
     "text": [
      "112\n",
      "CPU times: user 1.17 s, sys: 7.59 ms, total: 1.18 s\n",
      "Wall time: 1.18 s\n"
     ]
    }
   ],
   "source": [
    "%%time\n",
    "max_meta_len = df_meta['properties'].apply(lambda prop: len(prop.split('|'))).max()\n",
    "print(max_meta_len)"
   ]
  },
  {
   "cell_type": "code",
   "execution_count": 6,
   "metadata": {},
   "outputs": [
    {
     "data": {
      "text/plain": [
       "count   910683.000000\n",
       "mean        17.495651\n",
       "std         48.181687\n",
       "min          1.000000\n",
       "25%          2.000000\n",
       "50%          4.000000\n",
       "75%         13.000000\n",
       "max       3522.000000\n",
       "Name: user_id, dtype: float64"
      ]
     },
     "execution_count": 6,
     "metadata": {},
     "output_type": "execute_result"
    }
   ],
   "source": [
    "grouped = df_train.groupby(['session_id'])\n",
    "grouped['user_id'].count().describe()"
   ]
  },
  {
   "cell_type": "code",
   "execution_count": 34,
   "metadata": {},
   "outputs": [],
   "source": [
    "max_seq_len = 100"
   ]
  },
  {
   "cell_type": "code",
   "execution_count": 42,
   "metadata": {},
   "outputs": [],
   "source": [
    "class FastLabelEncoder:\n",
    "    def __init__(self):\n",
    "        self.token_to_id = dict()\n",
    "        self.id_to_token = dict()\n",
    "        self.unk_id = 1\n",
    "        self.pad_id = 0\n",
    "        self.current_id = 2\n",
    "\n",
    "    def __len__(self):\n",
    "        return len(self.token_to_id)\n",
    "\n",
    "    def _pad(self, seq, pad):\n",
    "        if pad < 0: return seq\n",
    "        if len(seq) > pad: return seq[:pad]\n",
    "        return seq + [self.pad_id] * (pad - len(seq))\n",
    "\n",
    "    def fit(self, X):\n",
    "        for row in X:\n",
    "            for token in row:\n",
    "                if token not in self.token_to_id:\n",
    "                    self.token_to_id[token] = self.current_id\n",
    "                    self.id_to_token[self.current_id] = token\n",
    "                    self.current_id += 1\n",
    "\n",
    "        return self\n",
    "\n",
    "    def transform(self, X, pad=-1):\n",
    "        return np.array([self._pad([\n",
    "              self.token_to_id[token] if token in self.token_to_id else self.unk_id\n",
    "              for token in row\n",
    "        ], pad) for row in X])\n",
    "        \n",
    "    def fit_transform(self, X, pad=-1):\n",
    "        return self.fit(X).transform(X, pad)"
   ]
  },
  {
   "cell_type": "code",
   "execution_count": 43,
   "metadata": {},
   "outputs": [],
   "source": [
    "class Input:\n",
    "    pad_shapes = {\n",
    "        'type': tf.TensorShape([max_seq_len]),\n",
    "        'value': tf.TensorShape([max_seq_len, max_meta_len]),\n",
    "        'neg': tf.TensorShape([25]),\n",
    "        'pos': tf.TensorShape([])\n",
    "    }\n",
    "    out_shapes = tuple(v for k, v in pad_shapes.items())\n",
    "\n",
    "    def __init__(self):\n",
    "        self.action_types_encoder = FastLabelEncoder()\n",
    "        self.action_vals_encoder = FastLabelEncoder()\n",
    "        self.labels_encoder = FastLabelEncoder()\n",
    "\n",
    "    def generator(self):\n",
    "        last_session_id = None\n",
    "        action_types = []\n",
    "        action_vals = []\n",
    "        MISSING_REF_VAL = '?'\n",
    "\n",
    "        for _, row in df_train.iterrows():\n",
    "            if row['session_id'] != last_session_id:\n",
    "                action_types = []\n",
    "                action_vals = []\n",
    "\n",
    "            action_val = row['reference']\n",
    "\n",
    "            if row['action_type'] != 'clickout item':\n",
    "                action_types.append(row['action_type'])\n",
    "\n",
    "                if action_val.isdigit():\n",
    "                    int_id = int(action_val)\n",
    "                    if int_id in df_meta.index:\n",
    "                        action_vals.append(df_meta.loc[int_id]['properties'].split('|'))\n",
    "                    else:\n",
    "                        action_vals.append([int_id])\n",
    "                else:\n",
    "                    action_vals.append([action_val])\n",
    "            else:\n",
    "                neg = [int(i) for i in row['impressions'].split('|') if i != action_val]\n",
    "                yield self.action_types_encoder.fit_transform([action_types])[0], \\\n",
    "                      self.action_vals_encoder.fit_transform(action_vals, pad=max_meta_len), \\\n",
    "                      self.labels_encoder.fit_transform([neg])[0], \\\n",
    "                      self.labels_encoder.fit_transform([[int(action_val)]])[0][0]\n",
    "\n",
    "            last_session_id = row['session_id']\n",
    "\n",
    "    def as_dataset(self, batch_size):\n",
    "        dataset = tf.data.Dataset.from_generator(\n",
    "            self.generator,\n",
    "            (tf.int32,) * 4,\n",
    "            (\n",
    "                tf.TensorShape([None]),\n",
    "                tf.TensorShape([None, None]),\n",
    "                tf.TensorShape([None]),\n",
    "                tf.TensorShape([])\n",
    "            )\n",
    "        )\n",
    "\n",
    "        dataset = dataset.padded_batch(batch_size, padded_shapes=self.out_shapes)\n",
    "\n",
    "        return dataset"
   ]
  },
  {
   "cell_type": "code",
   "execution_count": 29,
   "metadata": {},
   "outputs": [
    {
     "data": {
      "text/plain": [
       "(array([2, 3, 3, 3, 3, 3, 3, 3, 3, 3, 3, 3, 3]),\n",
       " array([[ 2,  0,  0, ...,  0,  0,  0],\n",
       "        [ 3,  4,  5, ...,  0,  0,  0],\n",
       "        [ 3,  4,  5, ...,  0,  0,  0],\n",
       "        ...,\n",
       "        [28, 29, 30, ...,  0,  0,  0],\n",
       "        [28, 29, 30, ...,  0,  0,  0],\n",
       "        [28, 29, 30, ...,  0,  0,  0]]),\n",
       " array([ 2,  3,  4,  5,  6,  7,  8,  9, 10, 11, 12, 13, 14, 15, 16, 17, 18,\n",
       "        19, 20, 21, 22, 23, 24, 25]),\n",
       " 26)"
      ]
     },
     "execution_count": 29,
     "metadata": {},
     "output_type": "execute_result"
    }
   ],
   "source": [
    "next(Input().generator())"
   ]
  },
  {
   "cell_type": "code",
   "execution_count": 10,
   "metadata": {},
   "outputs": [
    {
     "name": "stdout",
     "output_type": "stream",
     "text": [
      "Wall time: 13.1 s\n"
     ]
    }
   ],
   "source": [
    "%%time\n",
    "i = Input().generator()\n",
    "next(i)\n",
    "for _ in range(5000):\n",
    "    next(i)"
   ]
  },
  {
   "cell_type": "markdown",
   "metadata": {},
   "source": [
    "too slow \n",
    "\n",
    "https://stackoverflow.com/questions/24870953/does-pandas-iterrows-have-performance-issues"
   ]
  },
  {
   "cell_type": "code",
   "execution_count": 44,
   "metadata": {},
   "outputs": [],
   "source": [
    "inp = Input()\n",
    "dataset = inp.as_dataset(batch_size=3)"
   ]
  },
  {
   "cell_type": "code",
   "execution_count": 45,
   "metadata": {},
   "outputs": [
    {
     "data": {
      "text/plain": [
       "(<tf.Tensor 'IteratorGetNext_4:0' shape=(?, 100) dtype=int32>,\n",
       " <tf.Tensor 'IteratorGetNext_4:1' shape=(?, 100, 112) dtype=int32>,\n",
       " <tf.Tensor 'IteratorGetNext_4:2' shape=(?, 25) dtype=int32>,\n",
       " <tf.Tensor 'IteratorGetNext_4:3' shape=(?,) dtype=int32>)"
      ]
     },
     "execution_count": 45,
     "metadata": {},
     "output_type": "execute_result"
    }
   ],
   "source": [
    "dataset.make_one_shot_iterator().get_next()"
   ]
  },
  {
   "cell_type": "markdown",
   "metadata": {},
   "source": [
    "---"
   ]
  },
  {
   "cell_type": "code",
   "execution_count": 46,
   "metadata": {},
   "outputs": [],
   "source": [
    "import SASRec.modules as sas_module"
   ]
  },
  {
   "cell_type": "code",
   "execution_count": 50,
   "metadata": {},
   "outputs": [],
   "source": [
    "def mk_model():\n",
    "    action_type_emb_size = 20\n",
    "    action_val_emb_size = 20\n",
    "    output_emb_size = 20\n",
    "    \n",
    "    type_input = layers.Input(shape=Input.pad_shapes['type'])\n",
    "    value_input = layers.Input(shape=Input.pad_shapes['value'])\n",
    "    pos_input = layers.Input(shape=Input.pad_shapes['pos'])\n",
    "    neg_input = layers.Input(shape=Input.pad_shapes['neg'])\n",
    "\n",
    "    action_type = layers.Embedding(\n",
    "        input_dim=len(inp.action_types_encoder),\n",
    "        output_dim=action_type_emb_size,\n",
    "        mask_zero=True\n",
    "    )(type_input)\n",
    "\n",
    "    action_val = layers.Embedding(\n",
    "        input_dim=len(inp.action_vals_encoder),\n",
    "        output_dim=action_val_emb_size,\n",
    "        mask_zero=True\n",
    "    )(value_input)\n",
    "\n",
    "    pos = layers.Embedding(\n",
    "        input_dim=len(inp.labels_encoder),\n",
    "        output_dim=output_emb_size,\n",
    "        mask_zero=True\n",
    "    )(pos_input)\n",
    "\n",
    "    neg = layers.Embedding(\n",
    "        input_dim=len(inp.labels_encoder),\n",
    "        output_dim=output_emb_size,\n",
    "        mask_zero=True\n",
    "    )(neg_input)\n",
    "\n",
    "    dimension_of_seq_features = 2\n",
    "    action_val_reduced = tf.reduce_mean(action_val, dimension_of_seq_features)\n",
    "\n",
    "    seq = (action_type + action_val_reduced) / 2\n",
    "\n",
    "    # (batch, sequence, embedding of items in sequence)\n",
    "    seq, pos, neg\n",
    "    # (<tf.Tensor 'Reshape_3:0' shape=(?, 1000) dtype=float32>,\n",
    "    #  <tf.Tensor 'embedding_lookup_22/Identity_2:0' shape=(?, 20) dtype=float32>,\n",
    "    #  <tf.Tensor 'Mean_6:0' shape=(?, 20) dtype=float32>)\n",
    "\n",
    "    num_blocks = 2\n",
    "    hidden_units = output_emb_size\n",
    "    num_heads = 2\n",
    "    dropout_rate = 0.5\n",
    "    is_training = True\n",
    "\n",
    "    mask = tf.to_float(tf.not_equal(seq, 0))\n",
    "\n",
    "    for i in range(num_blocks):\n",
    "        with tf.variable_scope('num_blocks_%d' % i):\n",
    "            # self-attention\n",
    "            seq = sas_module.multihead_attention(\n",
    "                queries=sas_module.normalize(seq),\n",
    "                keys=seq,\n",
    "                num_units=hidden_units,\n",
    "                num_heads=num_heads,\n",
    "                dropout_rate=dropout_rate,\n",
    "                is_training=is_training,\n",
    "                causality=True,\n",
    "                scope='self_attention'\n",
    "            )\n",
    "\n",
    "            # Feed forward\n",
    "            seq = sas_module.feedforward(\n",
    "                sas_module.normalize(seq),\n",
    "                num_units=[hidden_units, hidden_units],\n",
    "                dropout_rate=dropout_rate,\n",
    "                is_training=is_training\n",
    "            )\n",
    "\n",
    "            seq *= mask\n",
    "\n",
    "    seq = sas_module.normalize(seq)\n",
    "    \n",
    "    seq = tf.reshape(seq, [tf.shape(seq)[0], max_seq_len * output_emb_size])\n",
    "    neg_emb = tf.reduce_mean(neg, 1)\n",
    "    pos_emb = pos\n",
    "\n",
    "    seq_logits = tf.keras.layers.Dense(pos.shape[1].value)(seq)\n",
    "    pos_logits = tf.reduce_sum(pos_emb * seq_logits, -1)\n",
    "    neg_logits = tf.reduce_sum(neg_emb * seq_logits, -1)\n",
    "    \n",
    "    loss = tf.reduce_sum(\n",
    "        - tf.log(tf.sigmoid(pos_logits) + 1e-24)\n",
    "        - tf.log(1 - tf.sigmoid(neg_logits) + 1e-24)\n",
    "    )\n",
    "    \n",
    "    reg_losses = tf.get_collection(tf.GraphKeys.REGULARIZATION_LOSSES)\n",
    "    loss += sum(reg_losses)\n",
    "    \n",
    "    tf.summary.scalar('loss', loss)\n",
    "    \n",
    "    optimizer = tf.train.AdamOptimizer(learning_rate=0.001, beta2=0.98).minimize(loss)\n",
    "    \n",
    "    return type_input, value_input, pos_input, neg_input, loss, optimizer"
   ]
  },
  {
   "cell_type": "code",
   "execution_count": 53,
   "metadata": {},
   "outputs": [],
   "source": [
    "with tf.Graph().as_default():\n",
    "    with tf.Session() as sess:\n",
    "        type_input, value_input, pos_input, neg_input, loss, optimizer = mk_model()\n",
    "        dataset = inp.as_dataset(batch_size=1)\n",
    "        t, v, n, p = dataset.make_one_shot_iterator().get_next()\n",
    "        t, v, n, p = t.eval(session=sess), v.eval(session=sess), n.eval(session=sess), p.eval(session=sess)\n",
    "\n",
    "        sess.run(tf.global_variables_initializer())\n",
    "        _, _ = sess.run(\n",
    "            [loss, optimizer],\n",
    "            {type_input: t, value_input: v, pos_input: p, neg_input: n}\n",
    "        )"
   ]
  },
  {
   "cell_type": "code",
   "execution_count": null,
   "metadata": {},
   "outputs": [],
   "source": [
    "tf.keras.utils.plot_model(model, show_shapes=True, show_layer_names=True, to_file='model.png')\n",
    "from IPython.display import Image\n",
    "Image(retina=True, filename='model.png')"
   ]
  },
  {
   "cell_type": "code",
   "execution_count": null,
   "metadata": {},
   "outputs": [],
   "source": []
  }
 ],
 "metadata": {
  "kernelspec": {
   "display_name": "Python 3",
   "language": "python",
   "name": "python3"
  },
  "language_info": {
   "codemirror_mode": {
    "name": "ipython",
    "version": 3
   },
   "file_extension": ".py",
   "mimetype": "text/x-python",
   "name": "python",
   "nbconvert_exporter": "python",
   "pygments_lexer": "ipython3",
   "version": "3.6.8"
  }
 },
 "nbformat": 4,
 "nbformat_minor": 2
}
