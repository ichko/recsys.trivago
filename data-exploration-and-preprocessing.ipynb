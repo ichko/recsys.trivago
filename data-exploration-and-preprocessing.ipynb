{
 "cells": [
  {
   "cell_type": "code",
   "execution_count": 1,
   "metadata": {},
   "outputs": [],
   "source": [
    "%load_ext autoreload\n",
    "%autoreload 2"
   ]
  },
  {
   "cell_type": "code",
   "execution_count": 56,
   "metadata": {},
   "outputs": [],
   "source": [
    "import tensorflow as tf\n",
    "import pandas as pd\n",
    "import matplotlib.pyplot as plt\n",
    "import numpy as np\n",
    "\n",
    "pd.set_option('float_format', '{:f}'.format)"
   ]
  },
  {
   "cell_type": "code",
   "execution_count": 4,
   "metadata": {},
   "outputs": [
    {
     "data": {
      "text/plain": [
       "'1.13.1'"
      ]
     },
     "execution_count": 4,
     "metadata": {},
     "output_type": "execute_result"
    }
   ],
   "source": [
    "tf.__version__"
   ]
  },
  {
   "cell_type": "code",
   "execution_count": 2,
   "metadata": {},
   "outputs": [
    {
     "name": "stdout",
     "output_type": "stream",
     "text": [
      "--2019-06-10 22:50:21--  https://uc31d1308a77caa89e0bfea50ff4.dl.dropboxusercontent.com/zip_by_token_key?dl=1&key=AilA9SlbHXj16VWMNJQyoa9w-L0TnjlKhCmezD8W46gwz0pBT2R7q6kP4Mja95PKD7aT2NdCO3B0Uy6dRK7EPi-sIJYYKZjP1jkRnlIrgyBwLdXJhdhrx3qc8QYBGIuDnnkFa6watmY4GEpnzh7eXBOdILeGVNdYo3mp9HODIjF1bHHfzMJIVJjX1h7ksBmyay8xyx5lE8utbI4NbgkR_M7tvJU8OPvOjxh3k7rmFJaIKcg3RnN5YpHwiKnKYvNzPAf1mglE14GHhsdCxwCrHkgCLZMJvhMnhvCyHjKVM7NW2onjo09ENsHttSoMy1-PC0U\n",
      "Resolving uc31d1308a77caa89e0bfea50ff4.dl.dropboxusercontent.com (uc31d1308a77caa89e0bfea50ff4.dl.dropboxusercontent.com)... 162.125.69.6, 2620:100:6025:6::a27d:4506\n",
      "Connecting to uc31d1308a77caa89e0bfea50ff4.dl.dropboxusercontent.com (uc31d1308a77caa89e0bfea50ff4.dl.dropboxusercontent.com)|162.125.69.6|:443... connected.\n",
      "HTTP request sent, awaiting response... 200 OK\n",
      "Length: unspecified [application/zip]\n",
      "Saving to: ‘trivagoRecSysChallengeData2019_v2.zip’\n",
      "\n",
      "trivagoRecSysChalle     [              <=>   ] 465,41M  2,29MB/s    in 7m 5s   \n",
      "\n",
      "2019-06-10 22:57:29 (1,09 MB/s) - ‘trivagoRecSysChallengeData2019_v2.zip’ saved [488022369]\n",
      "\n"
     ]
    }
   ],
   "source": [
    "!wget --header=\"Host: uc31d1308a77caa89e0bfea50ff4.dl.dropboxusercontent.com\" --header=\"User-Agent: Mozilla/5.0 (X11; Linux x86_64) AppleWebKit/537.36 (KHTML, like Gecko) Ubuntu Chromium/74.0.3729.169 Chrome/74.0.3729.169 Safari/537.36\" --header=\"Accept: text/html,application/xhtml+xml,application/xml;q=0.9,image/webp,image/apng,*/*;q=0.8,application/signed-exchange;v=b3\" --header=\"Accept-Language: en,bg;q=0.9,es;q=0.8,de;q=0.7,fr;q=0.6,it;q=0.5,ja;q=0.4,pt;q=0.3,ru;q=0.2,sr;q=0.1,vi;q=0.1,el;q=0.1\" --header=\"Referer: https://recsys.trivago.cloud/\" \"https://uc31d1308a77caa89e0bfea50ff4.dl.dropboxusercontent.com/zip_by_token_key?dl=1&key=AilA9SlbHXj16VWMNJQyoa9w-L0TnjlKhCmezD8W46gwz0pBT2R7q6kP4Mja95PKD7aT2NdCO3B0Uy6dRK7EPi-sIJYYKZjP1jkRnlIrgyBwLdXJhdhrx3qc8QYBGIuDnnkFa6watmY4GEpnzh7eXBOdILeGVNdYo3mp9HODIjF1bHHfzMJIVJjX1h7ksBmyay8xyx5lE8utbI4NbgkR_M7tvJU8OPvOjxh3k7rmFJaIKcg3RnN5YpHwiKnKYvNzPAf1mglE14GHhsdCxwCrHkgCLZMJvhMnhvCyHjKVM7NW2onjo09ENsHttSoMy1-PC0U\" -O \"trivagoRecSysChallengeData2019_v2.zip\" -c"
   ]
  },
  {
   "cell_type": "code",
   "execution_count": 4,
   "metadata": {},
   "outputs": [
    {
     "name": "stdout",
     "output_type": "stream",
     "text": [
      "Archive:  trivagoRecSysChallengeData2019_v2.zip\n",
      "warning:  stripped absolute path spec from /\n",
      "mapname:  conversion of  failed\n",
      "  inflating: train.csv               \n",
      "  inflating: test.csv                \n",
      "  inflating: item_metadata.csv       \n",
      "  inflating: submission_popular.csv  \n"
     ]
    }
   ],
   "source": [
    "!unzip trivago* "
   ]
  },
  {
   "cell_type": "code",
   "execution_count": 9,
   "metadata": {},
   "outputs": [
    {
     "name": "stdout",
     "output_type": "stream",
     "text": [
      "CPU times: user 38 s, sys: 2.36 s, total: 40.3 s\n",
      "Wall time: 40.3 s\n"
     ]
    }
   ],
   "source": [
    "%%time\n",
    "df_train = pd.read_csv('train.csv')\n",
    "df_meta = pd.read_csv('item_metadata.csv')\n",
    "df_test = pd.read_csv('test.csv')"
   ]
  },
  {
   "cell_type": "code",
   "execution_count": 213,
   "metadata": {},
   "outputs": [
    {
     "data": {
      "text/html": [
       "<div>\n",
       "<style scoped>\n",
       "    .dataframe tbody tr th:only-of-type {\n",
       "        vertical-align: middle;\n",
       "    }\n",
       "\n",
       "    .dataframe tbody tr th {\n",
       "        vertical-align: top;\n",
       "    }\n",
       "\n",
       "    .dataframe thead th {\n",
       "        text-align: right;\n",
       "    }\n",
       "</style>\n",
       "<table border=\"1\" class=\"dataframe\">\n",
       "  <thead>\n",
       "    <tr style=\"text-align: right;\">\n",
       "      <th></th>\n",
       "      <th>item_id</th>\n",
       "      <th>properties</th>\n",
       "    </tr>\n",
       "  </thead>\n",
       "  <tbody>\n",
       "    <tr>\n",
       "      <th>634495</th>\n",
       "      <td>48594</td>\n",
       "      <td>Childcare|Radio|4 Star|From 4 Stars|Sitting Ar...</td>\n",
       "    </tr>\n",
       "    <tr>\n",
       "      <th>637208</th>\n",
       "      <td>7013756</td>\n",
       "      <td>Luxury Hotel|Hotel</td>\n",
       "    </tr>\n",
       "    <tr>\n",
       "      <th>392689</th>\n",
       "      <td>5556348</td>\n",
       "      <td>Restaurant|Free WiFi (Combined)|Free WiFi (Roo...</td>\n",
       "    </tr>\n",
       "  </tbody>\n",
       "</table>\n",
       "</div>"
      ],
      "text/plain": [
       "        item_id                                         properties\n",
       "634495    48594  Childcare|Radio|4 Star|From 4 Stars|Sitting Ar...\n",
       "637208  7013756                                 Luxury Hotel|Hotel\n",
       "392689  5556348  Restaurant|Free WiFi (Combined)|Free WiFi (Roo..."
      ]
     },
     "execution_count": 213,
     "metadata": {},
     "output_type": "execute_result"
    }
   ],
   "source": [
    "df_meta.sample(3)"
   ]
  },
  {
   "cell_type": "code",
   "execution_count": 214,
   "metadata": {},
   "outputs": [
    {
     "data": {
      "text/html": [
       "<div>\n",
       "<style scoped>\n",
       "    .dataframe tbody tr th:only-of-type {\n",
       "        vertical-align: middle;\n",
       "    }\n",
       "\n",
       "    .dataframe tbody tr th {\n",
       "        vertical-align: top;\n",
       "    }\n",
       "\n",
       "    .dataframe thead th {\n",
       "        text-align: right;\n",
       "    }\n",
       "</style>\n",
       "<table border=\"1\" class=\"dataframe\">\n",
       "  <thead>\n",
       "    <tr style=\"text-align: right;\">\n",
       "      <th></th>\n",
       "      <th>user_id</th>\n",
       "      <th>session_id</th>\n",
       "      <th>timestamp</th>\n",
       "      <th>step</th>\n",
       "      <th>action_type</th>\n",
       "      <th>reference</th>\n",
       "      <th>platform</th>\n",
       "      <th>city</th>\n",
       "      <th>device</th>\n",
       "      <th>current_filters</th>\n",
       "      <th>impressions</th>\n",
       "      <th>prices</th>\n",
       "    </tr>\n",
       "  </thead>\n",
       "  <tbody>\n",
       "    <tr>\n",
       "      <th>0</th>\n",
       "      <td>00RL8Z82B2Z1</td>\n",
       "      <td>aff3928535f48</td>\n",
       "      <td>1541037460</td>\n",
       "      <td>1</td>\n",
       "      <td>search for poi</td>\n",
       "      <td>Newtown</td>\n",
       "      <td>AU</td>\n",
       "      <td>Sydney, Australia</td>\n",
       "      <td>mobile</td>\n",
       "      <td>NaN</td>\n",
       "      <td>NaN</td>\n",
       "      <td>NaN</td>\n",
       "    </tr>\n",
       "    <tr>\n",
       "      <th>1</th>\n",
       "      <td>00RL8Z82B2Z1</td>\n",
       "      <td>aff3928535f48</td>\n",
       "      <td>1541037522</td>\n",
       "      <td>2</td>\n",
       "      <td>interaction item image</td>\n",
       "      <td>666856</td>\n",
       "      <td>AU</td>\n",
       "      <td>Sydney, Australia</td>\n",
       "      <td>mobile</td>\n",
       "      <td>NaN</td>\n",
       "      <td>NaN</td>\n",
       "      <td>NaN</td>\n",
       "    </tr>\n",
       "    <tr>\n",
       "      <th>2</th>\n",
       "      <td>00RL8Z82B2Z1</td>\n",
       "      <td>aff3928535f48</td>\n",
       "      <td>1541037522</td>\n",
       "      <td>3</td>\n",
       "      <td>interaction item image</td>\n",
       "      <td>666856</td>\n",
       "      <td>AU</td>\n",
       "      <td>Sydney, Australia</td>\n",
       "      <td>mobile</td>\n",
       "      <td>NaN</td>\n",
       "      <td>NaN</td>\n",
       "      <td>NaN</td>\n",
       "    </tr>\n",
       "  </tbody>\n",
       "</table>\n",
       "</div>"
      ],
      "text/plain": [
       "        user_id     session_id   timestamp  step             action_type  \\\n",
       "0  00RL8Z82B2Z1  aff3928535f48  1541037460     1          search for poi   \n",
       "1  00RL8Z82B2Z1  aff3928535f48  1541037522     2  interaction item image   \n",
       "2  00RL8Z82B2Z1  aff3928535f48  1541037522     3  interaction item image   \n",
       "\n",
       "  reference platform               city  device current_filters impressions  \\\n",
       "0   Newtown       AU  Sydney, Australia  mobile             NaN         NaN   \n",
       "1    666856       AU  Sydney, Australia  mobile             NaN         NaN   \n",
       "2    666856       AU  Sydney, Australia  mobile             NaN         NaN   \n",
       "\n",
       "  prices  \n",
       "0    NaN  \n",
       "1    NaN  \n",
       "2    NaN  "
      ]
     },
     "execution_count": 214,
     "metadata": {},
     "output_type": "execute_result"
    }
   ],
   "source": [
    "df_train.head(3)"
   ]
  },
  {
   "cell_type": "markdown",
   "metadata": {},
   "source": [
    "### Reference valued"
   ]
  },
  {
   "cell_type": "code",
   "execution_count": 72,
   "metadata": {},
   "outputs": [
    {
     "data": {
      "text/plain": [
       "(13352, array(['Newtown', 'Surry Hills', 'Covent Garden'], dtype=object))"
      ]
     },
     "execution_count": 72,
     "metadata": {},
     "output_type": "execute_result"
    }
   ],
   "source": [
    "sfp = df_train[df_train['action_type'] == 'search for poi']['reference'].unique()\n",
    "len(sfp), sfp[:3]"
   ]
  },
  {
   "cell_type": "code",
   "execution_count": 73,
   "metadata": {},
   "outputs": [
    {
     "data": {
      "text/plain": [
       "(22844, array(['London, United Kingdom', 'Bakersfield, USA',\n",
       "        'Panama City, Panama'], dtype=object))"
      ]
     },
     "execution_count": 73,
     "metadata": {},
     "output_type": "execute_result"
    }
   ],
   "source": [
    "sfd = df_train[df_train['action_type'] == 'search for destination']['reference'].unique()\n",
    "len(sfd), sfd[:3]"
   ]
  },
  {
   "cell_type": "code",
   "execution_count": 76,
   "metadata": {},
   "outputs": [
    {
     "data": {
      "text/plain": [
       "(201, array(['Very Good Rating', 'Hostal (ES)', 'Hotel'], dtype=object))"
      ]
     },
     "execution_count": 76,
     "metadata": {},
     "output_type": "execute_result"
    }
   ],
   "source": [
    "fs = df_train[df_train['action_type'] == 'filter selection']['reference'].unique()\n",
    "len(fs), fs[:3]"
   ]
  },
  {
   "cell_type": "code",
   "execution_count": 100,
   "metadata": {},
   "outputs": [
    {
     "data": {
      "text/plain": [
       "(8, array(['interaction sort button', 'price and recommended', 'price only'],\n",
       "       dtype=object))"
      ]
     },
     "execution_count": 100,
     "metadata": {},
     "output_type": "execute_result"
    }
   ],
   "source": [
    "coso = df_train[df_train['action_type'] == 'change of sort order']['reference'].unique()\n",
    "len(coso), coso[:3]"
   ]
  },
  {
   "cell_type": "markdown",
   "metadata": {},
   "source": [
    "### Meta valued"
   ]
  },
  {
   "cell_type": "code",
   "execution_count": 196,
   "metadata": {},
   "outputs": [],
   "source": [
    "def get_meta_values(action_type):\n",
    "    refs = df_train[df_train['action_type'] == action_type]['reference'].unique()\n",
    "    ids = {int(i) for i in refs if i.isdigit()}\n",
    "    props = df_meta[df_meta['item_id'].isin(ids)]['properties'].apply(lambda x: x.split('|'))\n",
    "    return {i for items in props for i in items}"
   ]
  },
  {
   "cell_type": "code",
   "execution_count": 198,
   "metadata": {},
   "outputs": [
    {
     "data": {
      "text/plain": [
       "(157, ['Radio', 'Convention Hotel', 'Playground'])"
      ]
     },
     "execution_count": 198,
     "metadata": {},
     "output_type": "execute_result"
    }
   ],
   "source": [
    "sfi = get_meta_values('search for item')\n",
    "len(sfi), list(sfi)[:3]"
   ]
  },
  {
   "cell_type": "code",
   "execution_count": 199,
   "metadata": {},
   "outputs": [
    {
     "data": {
      "text/plain": [
       "(157, ['Radio', 'Convention Hotel', 'Playground'])"
      ]
     },
     "execution_count": 199,
     "metadata": {},
     "output_type": "execute_result"
    }
   ],
   "source": [
    "iid = get_meta_values('interaction item deals')\n",
    "len(iid), list(iid)[:3]"
   ]
  },
  {
   "cell_type": "code",
   "execution_count": 200,
   "metadata": {},
   "outputs": [
    {
     "data": {
      "text/plain": [
       "(157, ['Radio', 'Convention Hotel', 'Playground'])"
      ]
     },
     "execution_count": 200,
     "metadata": {},
     "output_type": "execute_result"
    }
   ],
   "source": [
    "iii = get_meta_values('interaction item image')\n",
    "len(iii), list(iii)[:3]"
   ]
  },
  {
   "cell_type": "code",
   "execution_count": 202,
   "metadata": {},
   "outputs": [
    {
     "data": {
      "text/plain": [
       "(157, ['Radio', 'Convention Hotel', 'Playground'])"
      ]
     },
     "execution_count": 202,
     "metadata": {},
     "output_type": "execute_result"
    }
   ],
   "source": [
    "iiinf = get_meta_values('interaction item info')\n",
    "len(iiinf), list(iiinf)[:3]"
   ]
  },
  {
   "cell_type": "code",
   "execution_count": 205,
   "metadata": {},
   "outputs": [
    {
     "data": {
      "text/plain": [
       "(157, ['Radio', 'Convention Hotel', 'Playground'])"
      ]
     },
     "execution_count": 205,
     "metadata": {},
     "output_type": "execute_result"
    }
   ],
   "source": [
    "iir = get_meta_values('interaction item rating')\n",
    "len(iir), list(iir)[:3]"
   ]
  },
  {
   "cell_type": "markdown",
   "metadata": {},
   "source": [
    "### Clickout item"
   ]
  },
  {
   "cell_type": "code",
   "execution_count": 212,
   "metadata": {},
   "outputs": [
    {
     "data": {
      "text/html": [
       "<div>\n",
       "<style scoped>\n",
       "    .dataframe tbody tr th:only-of-type {\n",
       "        vertical-align: middle;\n",
       "    }\n",
       "\n",
       "    .dataframe tbody tr th {\n",
       "        vertical-align: top;\n",
       "    }\n",
       "\n",
       "    .dataframe thead th {\n",
       "        text-align: right;\n",
       "    }\n",
       "</style>\n",
       "<table border=\"1\" class=\"dataframe\">\n",
       "  <thead>\n",
       "    <tr style=\"text-align: right;\">\n",
       "      <th></th>\n",
       "      <th>user_id</th>\n",
       "      <th>session_id</th>\n",
       "      <th>timestamp</th>\n",
       "      <th>step</th>\n",
       "      <th>action_type</th>\n",
       "      <th>reference</th>\n",
       "      <th>platform</th>\n",
       "      <th>city</th>\n",
       "      <th>device</th>\n",
       "      <th>current_filters</th>\n",
       "      <th>impressions</th>\n",
       "      <th>prices</th>\n",
       "    </tr>\n",
       "  </thead>\n",
       "  <tbody>\n",
       "    <tr>\n",
       "      <th>13</th>\n",
       "      <td>00RL8Z82B2Z1</td>\n",
       "      <td>aff3928535f48</td>\n",
       "      <td>1541037543</td>\n",
       "      <td>14</td>\n",
       "      <td>clickout item</td>\n",
       "      <td>109038</td>\n",
       "      <td>AU</td>\n",
       "      <td>Sydney, Australia</td>\n",
       "      <td>mobile</td>\n",
       "      <td>NaN</td>\n",
       "      <td>3400638|1253714|3367857|5100540|1088584|666916...</td>\n",
       "      <td>95|66|501|112|95|100|101|72|82|56|56|143|70|25...</td>\n",
       "    </tr>\n",
       "    <tr>\n",
       "      <th>15</th>\n",
       "      <td>00RL8Z82B2Z1</td>\n",
       "      <td>aff3928535f48</td>\n",
       "      <td>1541038485</td>\n",
       "      <td>16</td>\n",
       "      <td>clickout item</td>\n",
       "      <td>1257342</td>\n",
       "      <td>AU</td>\n",
       "      <td>Sydney, Australia</td>\n",
       "      <td>mobile</td>\n",
       "      <td>NaN</td>\n",
       "      <td>55109|129343|54824|2297972|109014|1257342|1031...</td>\n",
       "      <td>162|25|150|143|101|49|118|131|18|100|101|143|5...</td>\n",
       "    </tr>\n",
       "    <tr>\n",
       "      <th>115</th>\n",
       "      <td>02SRUT1NQYH1</td>\n",
       "      <td>3599a6f709eab</td>\n",
       "      <td>1541063864</td>\n",
       "      <td>35</td>\n",
       "      <td>clickout item</td>\n",
       "      <td>2795374</td>\n",
       "      <td>FI</td>\n",
       "      <td>Krakow, Poland</td>\n",
       "      <td>mobile</td>\n",
       "      <td>NaN</td>\n",
       "      <td>2795374|5582964|1088390|2781070|1258068|127196...</td>\n",
       "      <td>64|54|36|121|76|81|92|40|73|52|98|104|56|414|6...</td>\n",
       "    </tr>\n",
       "  </tbody>\n",
       "</table>\n",
       "</div>"
      ],
      "text/plain": [
       "          user_id     session_id   timestamp  step    action_type reference  \\\n",
       "13   00RL8Z82B2Z1  aff3928535f48  1541037543    14  clickout item    109038   \n",
       "15   00RL8Z82B2Z1  aff3928535f48  1541038485    16  clickout item   1257342   \n",
       "115  02SRUT1NQYH1  3599a6f709eab  1541063864    35  clickout item   2795374   \n",
       "\n",
       "    platform               city  device current_filters  \\\n",
       "13        AU  Sydney, Australia  mobile             NaN   \n",
       "15        AU  Sydney, Australia  mobile             NaN   \n",
       "115       FI     Krakow, Poland  mobile             NaN   \n",
       "\n",
       "                                           impressions  \\\n",
       "13   3400638|1253714|3367857|5100540|1088584|666916...   \n",
       "15   55109|129343|54824|2297972|109014|1257342|1031...   \n",
       "115  2795374|5582964|1088390|2781070|1258068|127196...   \n",
       "\n",
       "                                                prices  \n",
       "13   95|66|501|112|95|100|101|72|82|56|56|143|70|25...  \n",
       "15   162|25|150|143|101|49|118|131|18|100|101|143|5...  \n",
       "115  64|54|36|121|76|81|92|40|73|52|98|104|56|414|6...  "
      ]
     },
     "execution_count": 212,
     "metadata": {},
     "output_type": "execute_result"
    }
   ],
   "source": [
    "df_train[df_train['action_type'] == 'clickout item'].head(3)"
   ]
  },
  {
   "cell_type": "markdown",
   "metadata": {},
   "source": [
    "---"
   ]
  },
  {
   "cell_type": "code",
   "execution_count": 221,
   "metadata": {},
   "outputs": [
    {
     "data": {
      "text/plain": [
       "count   910683.000000\n",
       "mean        17.495651\n",
       "std         48.181687\n",
       "min          1.000000\n",
       "25%          2.000000\n",
       "50%          4.000000\n",
       "75%         13.000000\n",
       "max       3522.000000\n",
       "Name: step, dtype: float64"
      ]
     },
     "execution_count": 221,
     "metadata": {},
     "output_type": "execute_result"
    }
   ],
   "source": [
    "df_train.groupby('session_id')['step'].count().describe()"
   ]
  },
  {
   "cell_type": "code",
   "execution_count": 245,
   "metadata": {},
   "outputs": [],
   "source": [
    "def extract_seqs(group):\n",
    "    group['session_id']\n",
    "    group['action_type']"
   ]
  },
  {
   "cell_type": "code",
   "execution_count": 227,
   "metadata": {},
   "outputs": [],
   "source": [
    "groups = df_train.groupby('session_id')"
   ]
  },
  {
   "cell_type": "code",
   "execution_count": 232,
   "metadata": {},
   "outputs": [],
   "source": [
    "df = df_train.sample(frac=0.01)"
   ]
  },
  {
   "cell_type": "code",
   "execution_count": 233,
   "metadata": {},
   "outputs": [
    {
     "data": {
      "text/plain": [
       "159330"
      ]
     },
     "execution_count": 233,
     "metadata": {},
     "output_type": "execute_result"
    }
   ],
   "source": [
    "len(df)"
   ]
  },
  {
   "cell_type": "code",
   "execution_count": 241,
   "metadata": {},
   "outputs": [],
   "source": [
    "groups = df.groupby('session_id')"
   ]
  },
  {
   "cell_type": "code",
   "execution_count": 250,
   "metadata": {},
   "outputs": [
    {
     "name": "stdout",
     "output_type": "stream",
     "text": [
      "CPU times: user 8.68 s, sys: 3.24 ms, total: 8.69 s\n",
      "Wall time: 8.69 s\n"
     ]
    }
   ],
   "source": [
    "%%time\n",
    "train = pd.DataFrame({\n",
    "    'action_type_seq': groups.apply(lambda x: x['action_type'].tolist()),\n",
    "    'reference_seq': groups.apply(lambda x: x['reference'].tolist()),\n",
    "}).reset_index()"
   ]
  },
  {
   "cell_type": "code",
   "execution_count": 254,
   "metadata": {},
   "outputs": [
    {
     "data": {
      "text/html": [
       "<div>\n",
       "<style scoped>\n",
       "    .dataframe tbody tr th:only-of-type {\n",
       "        vertical-align: middle;\n",
       "    }\n",
       "\n",
       "    .dataframe tbody tr th {\n",
       "        vertical-align: top;\n",
       "    }\n",
       "\n",
       "    .dataframe thead th {\n",
       "        text-align: right;\n",
       "    }\n",
       "</style>\n",
       "<table border=\"1\" class=\"dataframe\">\n",
       "  <thead>\n",
       "    <tr style=\"text-align: right;\">\n",
       "      <th></th>\n",
       "      <th>session_id</th>\n",
       "      <th>action_type_seq</th>\n",
       "      <th>reference_seq</th>\n",
       "    </tr>\n",
       "  </thead>\n",
       "  <tbody>\n",
       "    <tr>\n",
       "      <th>0</th>\n",
       "      <td>00000510f1adc</td>\n",
       "      <td>[clickout item]</td>\n",
       "      <td>[7281198]</td>\n",
       "    </tr>\n",
       "    <tr>\n",
       "      <th>1</th>\n",
       "      <td>000066611146f</td>\n",
       "      <td>[clickout item]</td>\n",
       "      <td>[5479306]</td>\n",
       "    </tr>\n",
       "    <tr>\n",
       "      <th>2</th>\n",
       "      <td>00019f78d2c36</td>\n",
       "      <td>[interaction item image]</td>\n",
       "      <td>[4755476]</td>\n",
       "    </tr>\n",
       "    <tr>\n",
       "      <th>3</th>\n",
       "      <td>0001e610ce498</td>\n",
       "      <td>[interaction item image, interaction item image]</td>\n",
       "      <td>[1257216, 488901]</td>\n",
       "    </tr>\n",
       "    <tr>\n",
       "      <th>4</th>\n",
       "      <td>0001fe0007954</td>\n",
       "      <td>[change of sort order]</td>\n",
       "      <td>[price and recommended]</td>\n",
       "    </tr>\n",
       "    <tr>\n",
       "      <th>5</th>\n",
       "      <td>00030305c6aa7</td>\n",
       "      <td>[filter selection]</td>\n",
       "      <td>[Hostal (ES)]</td>\n",
       "    </tr>\n",
       "    <tr>\n",
       "      <th>6</th>\n",
       "      <td>00033ccbbcdd4</td>\n",
       "      <td>[interaction item image]</td>\n",
       "      <td>[3854580]</td>\n",
       "    </tr>\n",
       "    <tr>\n",
       "      <th>7</th>\n",
       "      <td>00040aa1d0a4d</td>\n",
       "      <td>[interaction item image]</td>\n",
       "      <td>[104874]</td>\n",
       "    </tr>\n",
       "    <tr>\n",
       "      <th>8</th>\n",
       "      <td>0005174c23dcb</td>\n",
       "      <td>[interaction item info]</td>\n",
       "      <td>[1134551]</td>\n",
       "    </tr>\n",
       "    <tr>\n",
       "      <th>9</th>\n",
       "      <td>000543ecdcf0f</td>\n",
       "      <td>[interaction item image, interaction item imag...</td>\n",
       "      <td>[3758872, 3758872, 124561, 3758872]</td>\n",
       "    </tr>\n",
       "  </tbody>\n",
       "</table>\n",
       "</div>"
      ],
      "text/plain": [
       "      session_id                                    action_type_seq  \\\n",
       "0  00000510f1adc                                    [clickout item]   \n",
       "1  000066611146f                                    [clickout item]   \n",
       "2  00019f78d2c36                           [interaction item image]   \n",
       "3  0001e610ce498   [interaction item image, interaction item image]   \n",
       "4  0001fe0007954                             [change of sort order]   \n",
       "5  00030305c6aa7                                 [filter selection]   \n",
       "6  00033ccbbcdd4                           [interaction item image]   \n",
       "7  00040aa1d0a4d                           [interaction item image]   \n",
       "8  0005174c23dcb                            [interaction item info]   \n",
       "9  000543ecdcf0f  [interaction item image, interaction item imag...   \n",
       "\n",
       "                         reference_seq  \n",
       "0                            [7281198]  \n",
       "1                            [5479306]  \n",
       "2                            [4755476]  \n",
       "3                    [1257216, 488901]  \n",
       "4              [price and recommended]  \n",
       "5                        [Hostal (ES)]  \n",
       "6                            [3854580]  \n",
       "7                             [104874]  \n",
       "8                            [1134551]  \n",
       "9  [3758872, 3758872, 124561, 3758872]  "
      ]
     },
     "execution_count": 254,
     "metadata": {},
     "output_type": "execute_result"
    }
   ],
   "source": [
    "train[:10]"
   ]
  },
  {
   "cell_type": "code",
   "execution_count": 263,
   "metadata": {},
   "outputs": [],
   "source": [
    "impr = groups.apply(lambda x: x[~x['impressions'].isna()]['impressions'].tolist())"
   ]
  },
  {
   "cell_type": "code",
   "execution_count": 265,
   "metadata": {},
   "outputs": [
    {
     "data": {
      "text/plain": [
       "session_id\n",
       "00000510f1adc    [2661832|9222426|7051844|4079190|5752778|46839...\n",
       "000066611146f    [5479306|97126|2195126|4163966|8415348|7829686...\n",
       "00019f78d2c36                                                   []\n",
       "0001e610ce498                                                   []\n",
       "0001fe0007954                                                   []\n",
       "00030305c6aa7                                                   []\n",
       "00033ccbbcdd4                                                   []\n",
       "00040aa1d0a4d                                                   []\n",
       "0005174c23dcb                                                   []\n",
       "000543ecdcf0f                                                   []\n",
       "00054e0206883                                                   []\n",
       "0005c6da8ea8a    [1499679|1282296|1923369|5097960|152217|471526...\n",
       "000667c53544d                                                   []\n",
       "0006c76c444d6                                                   []\n",
       "000740962ae8f                                                   []\n",
       "00079f55efc6f                                                   []\n",
       "0007d46ab5466                                                   []\n",
       "0008f78149293                                                   []\n",
       "00090ad647871                                                   []\n",
       "0009a2aeefd32                                                   []\n",
       "0009e4a9016f4                                                   []\n",
       "000a3c21ab6d7                                                   []\n",
       "000ac95106855                                                   []\n",
       "000bc15450f98    [2502086|2038143|1656477|3984674|8414814|42747...\n",
       "000c5b110f5f6                                                   []\n",
       "000d2e6f41c5c                                                   []\n",
       "000d3d12c152e                                                   []\n",
       "000d5b0d4e90f                                                   []\n",
       "000eb28e42490                                                   []\n",
       "000f76d617be0                                                   []\n",
       "                                       ...                        \n",
       "ffedf535a72ea                                                   []\n",
       "ffee1fedc4f3d                                                   []\n",
       "ffef2bca9cfbf                                                   []\n",
       "ffef35175772d                                                   []\n",
       "ffefcde80448c                                                   []\n",
       "fff2cbbb38d31                                                   []\n",
       "fff3913b59a6d                                                   []\n",
       "fff457836cb12                                                   []\n",
       "fff4721f920b3    [1941989|1269700|5482380|11695|11603|1892689|1...\n",
       "fff4d3bd9c92c                                                   []\n",
       "fff5289fc6779                                                   []\n",
       "fff5356764c2c                                                   []\n",
       "fff6e2f9e0960                                                   []\n",
       "fff6ee2a54519                                                   []\n",
       "fffa260a1e12b                                                   []\n",
       "fffa2abe3e109                                                   []\n",
       "fffa36217de61                                                   []\n",
       "fffaa74cc6a99                                                   []\n",
       "fffae81f8eb8e                                                   []\n",
       "fffafc457bb9a                                                   []\n",
       "fffbeb724ba05                                                   []\n",
       "fffbef76d20f8                                                   []\n",
       "fffc26210e8e4                                                   []\n",
       "fffd4295f9b4b                                                   []\n",
       "fffd980d32c33                                                   []\n",
       "fffe20e434531                                                   []\n",
       "fffe45af750e7                                                   []\n",
       "ffff49ef53698                                                   []\n",
       "jb0g0qf54mrdm                                                   []\n",
       "udmhn71cn8500                                                   []\n",
       "Length: 106011, dtype: object"
      ]
     },
     "execution_count": 265,
     "metadata": {},
     "output_type": "execute_result"
    }
   ],
   "source": [
    "impr"
   ]
  },
  {
   "cell_type": "code",
   "execution_count": null,
   "metadata": {},
   "outputs": [],
   "source": []
  }
 ],
 "metadata": {
  "kernelspec": {
   "display_name": "Python 3",
   "language": "python",
   "name": "python3"
  },
  "language_info": {
   "codemirror_mode": {
    "name": "ipython",
    "version": 3
   },
   "file_extension": ".py",
   "mimetype": "text/x-python",
   "name": "python",
   "nbconvert_exporter": "python",
   "pygments_lexer": "ipython3",
   "version": "3.7.3"
  }
 },
 "nbformat": 4,
 "nbformat_minor": 2
}
