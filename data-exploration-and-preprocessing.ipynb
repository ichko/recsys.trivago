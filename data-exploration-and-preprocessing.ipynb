{
 "cells": [
  {
   "cell_type": "code",
   "execution_count": 3,
   "metadata": {},
   "outputs": [
    {
     "name": "stdout",
     "output_type": "stream",
     "text": [
      "The autoreload extension is already loaded. To reload it, use:\n",
      "  %reload_ext autoreload\n"
     ]
    }
   ],
   "source": [
    "%load_ext autoreload\n",
    "%autoreload 2"
   ]
  },
  {
   "cell_type": "code",
   "execution_count": 4,
   "metadata": {},
   "outputs": [],
   "source": [
    "import tensorflow as tf\n",
    "import pandas as pd\n",
    "import matplotlib.pyplot as plt\n",
    "import numpy as np\n",
    "\n",
    "tf.enable_eager_execution()\n",
    "\n",
    "pd.set_option('float_format', '{:f}'.format)"
   ]
  },
  {
   "cell_type": "code",
   "execution_count": 5,
   "metadata": {},
   "outputs": [
    {
     "data": {
      "text/plain": [
       "'1.13.1'"
      ]
     },
     "execution_count": 5,
     "metadata": {},
     "output_type": "execute_result"
    }
   ],
   "source": [
    "tf.__version__"
   ]
  },
  {
   "cell_type": "code",
   "execution_count": null,
   "metadata": {},
   "outputs": [],
   "source": [
    "!wget --header=\"Host: uc31d1308a77caa89e0bfea50ff4.dl.dropboxusercontent.com\" --header=\"User-Agent: Mozilla/5.0 (X11; Linux x86_64) AppleWebKit/537.36 (KHTML, like Gecko) Ubuntu Chromium/74.0.3729.169 Chrome/74.0.3729.169 Safari/537.36\" --header=\"Accept: text/html,application/xhtml+xml,application/xml;q=0.9,image/webp,image/apng,*/*;q=0.8,application/signed-exchange;v=b3\" --header=\"Accept-Language: en,bg;q=0.9,es;q=0.8,de;q=0.7,fr;q=0.6,it;q=0.5,ja;q=0.4,pt;q=0.3,ru;q=0.2,sr;q=0.1,vi;q=0.1,el;q=0.1\" --header=\"Referer: https://recsys.trivago.cloud/\" \"https://uc31d1308a77caa89e0bfea50ff4.dl.dropboxusercontent.com/zip_by_token_key?dl=1&key=AilA9SlbHXj16VWMNJQyoa9w-L0TnjlKhCmezD8W46gwz0pBT2R7q6kP4Mja95PKD7aT2NdCO3B0Uy6dRK7EPi-sIJYYKZjP1jkRnlIrgyBwLdXJhdhrx3qc8QYBGIuDnnkFa6watmY4GEpnzh7eXBOdILeGVNdYo3mp9HODIjF1bHHfzMJIVJjX1h7ksBmyay8xyx5lE8utbI4NbgkR_M7tvJU8OPvOjxh3k7rmFJaIKcg3RnN5YpHwiKnKYvNzPAf1mglE14GHhsdCxwCrHkgCLZMJvhMnhvCyHjKVM7NW2onjo09ENsHttSoMy1-PC0U\" -O \"trivagoRecSysChallengeData2019_v2.zip\" -c"
   ]
  },
  {
   "cell_type": "code",
   "execution_count": 6,
   "metadata": {},
   "outputs": [
    {
     "name": "stderr",
     "output_type": "stream",
     "text": [
      "'unzip' is not recognized as an internal or external command,\n",
      "operable program or batch file.\n"
     ]
    }
   ],
   "source": [
    "!unzip trivago*"
   ]
  },
  {
   "cell_type": "code",
   "execution_count": 10,
   "metadata": {},
   "outputs": [
    {
     "name": "stdout",
     "output_type": "stream",
     "text": [
      "Wall time: 56.9 s\n"
     ]
    }
   ],
   "source": [
    "%%time\n",
    "df_train = pd.read_csv('train.csv')\n",
    "df_meta = pd.read_csv('item_metadata.csv')\n",
    "df_test = pd.read_csv('test.csv')"
   ]
  },
  {
   "cell_type": "code",
   "execution_count": 12,
   "metadata": {},
   "outputs": [
    {
     "data": {
      "text/html": [
       "<div>\n",
       "<style scoped>\n",
       "    .dataframe tbody tr th:only-of-type {\n",
       "        vertical-align: middle;\n",
       "    }\n",
       "\n",
       "    .dataframe tbody tr th {\n",
       "        vertical-align: top;\n",
       "    }\n",
       "\n",
       "    .dataframe thead th {\n",
       "        text-align: right;\n",
       "    }\n",
       "</style>\n",
       "<table border=\"1\" class=\"dataframe\">\n",
       "  <thead>\n",
       "    <tr style=\"text-align: right;\">\n",
       "      <th></th>\n",
       "      <th>item_id</th>\n",
       "      <th>properties</th>\n",
       "    </tr>\n",
       "  </thead>\n",
       "  <tbody>\n",
       "    <tr>\n",
       "      <th>165738</th>\n",
       "      <td>5956454</td>\n",
       "      <td>WiFi (Public Areas)|Restaurant|Sitting Area (R...</td>\n",
       "    </tr>\n",
       "    <tr>\n",
       "      <th>480071</th>\n",
       "      <td>6006934</td>\n",
       "      <td>Satisfactory Rating|Very Good Rating|House / A...</td>\n",
       "    </tr>\n",
       "    <tr>\n",
       "      <th>64330</th>\n",
       "      <td>8879956</td>\n",
       "      <td>From 3 Stars|Good Rating|Telephone|Hotel|Air C...</td>\n",
       "    </tr>\n",
       "  </tbody>\n",
       "</table>\n",
       "</div>"
      ],
      "text/plain": [
       "        item_id                                         properties\n",
       "165738  5956454  WiFi (Public Areas)|Restaurant|Sitting Area (R...\n",
       "480071  6006934  Satisfactory Rating|Very Good Rating|House / A...\n",
       "64330   8879956  From 3 Stars|Good Rating|Telephone|Hotel|Air C..."
      ]
     },
     "execution_count": 12,
     "metadata": {},
     "output_type": "execute_result"
    }
   ],
   "source": [
    "df_meta.sample(3)"
   ]
  },
  {
   "cell_type": "code",
   "execution_count": 13,
   "metadata": {},
   "outputs": [
    {
     "data": {
      "text/html": [
       "<div>\n",
       "<style scoped>\n",
       "    .dataframe tbody tr th:only-of-type {\n",
       "        vertical-align: middle;\n",
       "    }\n",
       "\n",
       "    .dataframe tbody tr th {\n",
       "        vertical-align: top;\n",
       "    }\n",
       "\n",
       "    .dataframe thead th {\n",
       "        text-align: right;\n",
       "    }\n",
       "</style>\n",
       "<table border=\"1\" class=\"dataframe\">\n",
       "  <thead>\n",
       "    <tr style=\"text-align: right;\">\n",
       "      <th></th>\n",
       "      <th>user_id</th>\n",
       "      <th>session_id</th>\n",
       "      <th>timestamp</th>\n",
       "      <th>step</th>\n",
       "      <th>action_type</th>\n",
       "      <th>reference</th>\n",
       "      <th>platform</th>\n",
       "      <th>city</th>\n",
       "      <th>device</th>\n",
       "      <th>current_filters</th>\n",
       "      <th>impressions</th>\n",
       "      <th>prices</th>\n",
       "    </tr>\n",
       "  </thead>\n",
       "  <tbody>\n",
       "    <tr>\n",
       "      <th>0</th>\n",
       "      <td>00RL8Z82B2Z1</td>\n",
       "      <td>aff3928535f48</td>\n",
       "      <td>1541037460</td>\n",
       "      <td>1</td>\n",
       "      <td>search for poi</td>\n",
       "      <td>Newtown</td>\n",
       "      <td>AU</td>\n",
       "      <td>Sydney, Australia</td>\n",
       "      <td>mobile</td>\n",
       "      <td>NaN</td>\n",
       "      <td>NaN</td>\n",
       "      <td>NaN</td>\n",
       "    </tr>\n",
       "    <tr>\n",
       "      <th>1</th>\n",
       "      <td>00RL8Z82B2Z1</td>\n",
       "      <td>aff3928535f48</td>\n",
       "      <td>1541037522</td>\n",
       "      <td>2</td>\n",
       "      <td>interaction item image</td>\n",
       "      <td>666856</td>\n",
       "      <td>AU</td>\n",
       "      <td>Sydney, Australia</td>\n",
       "      <td>mobile</td>\n",
       "      <td>NaN</td>\n",
       "      <td>NaN</td>\n",
       "      <td>NaN</td>\n",
       "    </tr>\n",
       "    <tr>\n",
       "      <th>2</th>\n",
       "      <td>00RL8Z82B2Z1</td>\n",
       "      <td>aff3928535f48</td>\n",
       "      <td>1541037522</td>\n",
       "      <td>3</td>\n",
       "      <td>interaction item image</td>\n",
       "      <td>666856</td>\n",
       "      <td>AU</td>\n",
       "      <td>Sydney, Australia</td>\n",
       "      <td>mobile</td>\n",
       "      <td>NaN</td>\n",
       "      <td>NaN</td>\n",
       "      <td>NaN</td>\n",
       "    </tr>\n",
       "  </tbody>\n",
       "</table>\n",
       "</div>"
      ],
      "text/plain": [
       "        user_id     session_id   timestamp  step             action_type  \\\n",
       "0  00RL8Z82B2Z1  aff3928535f48  1541037460     1          search for poi   \n",
       "1  00RL8Z82B2Z1  aff3928535f48  1541037522     2  interaction item image   \n",
       "2  00RL8Z82B2Z1  aff3928535f48  1541037522     3  interaction item image   \n",
       "\n",
       "  reference platform               city  device current_filters impressions  \\\n",
       "0   Newtown       AU  Sydney, Australia  mobile             NaN         NaN   \n",
       "1    666856       AU  Sydney, Australia  mobile             NaN         NaN   \n",
       "2    666856       AU  Sydney, Australia  mobile             NaN         NaN   \n",
       "\n",
       "  prices  \n",
       "0    NaN  \n",
       "1    NaN  \n",
       "2    NaN  "
      ]
     },
     "execution_count": 13,
     "metadata": {},
     "output_type": "execute_result"
    }
   ],
   "source": [
    "df_train.head(3)"
   ]
  },
  {
   "cell_type": "markdown",
   "metadata": {},
   "source": [
    "### Reference valued"
   ]
  },
  {
   "cell_type": "code",
   "execution_count": 14,
   "metadata": {},
   "outputs": [
    {
     "data": {
      "text/plain": [
       "(13352, array(['Newtown', 'Surry Hills', 'Covent Garden'], dtype=object))"
      ]
     },
     "execution_count": 14,
     "metadata": {},
     "output_type": "execute_result"
    }
   ],
   "source": [
    "sfp = df_train[df_train['action_type'] == 'search for poi']['reference'].unique()\n",
    "len(sfp), sfp[:3]"
   ]
  },
  {
   "cell_type": "code",
   "execution_count": 15,
   "metadata": {},
   "outputs": [
    {
     "data": {
      "text/plain": [
       "(22844, array(['London, United Kingdom', 'Bakersfield, USA',\n",
       "        'Panama City, Panama'], dtype=object))"
      ]
     },
     "execution_count": 15,
     "metadata": {},
     "output_type": "execute_result"
    }
   ],
   "source": [
    "sfd = df_train[df_train['action_type'] == 'search for destination']['reference'].unique()\n",
    "len(sfd), sfd[:3]"
   ]
  },
  {
   "cell_type": "code",
   "execution_count": 16,
   "metadata": {},
   "outputs": [
    {
     "data": {
      "text/plain": [
       "(201, array(['Very Good Rating', 'Hostal (ES)', 'Hotel'], dtype=object))"
      ]
     },
     "execution_count": 16,
     "metadata": {},
     "output_type": "execute_result"
    }
   ],
   "source": [
    "fs = df_train[df_train['action_type'] == 'filter selection']['reference'].unique()\n",
    "len(fs), fs[:3]"
   ]
  },
  {
   "cell_type": "code",
   "execution_count": 17,
   "metadata": {},
   "outputs": [
    {
     "data": {
      "text/plain": [
       "(8, array(['interaction sort button', 'price and recommended', 'price only'],\n",
       "       dtype=object))"
      ]
     },
     "execution_count": 17,
     "metadata": {},
     "output_type": "execute_result"
    }
   ],
   "source": [
    "coso = df_train[df_train['action_type'] == 'change of sort order']['reference'].unique()\n",
    "len(coso), coso[:3]"
   ]
  },
  {
   "cell_type": "markdown",
   "metadata": {},
   "source": [
    "### Meta valued"
   ]
  },
  {
   "cell_type": "code",
   "execution_count": 18,
   "metadata": {},
   "outputs": [],
   "source": [
    "def get_meta_values(action_type):\n",
    "    refs = df_train[df_train['action_type'] == action_type]['reference'].unique()\n",
    "    ids = {int(i) for i in refs if i.isdigit()}\n",
    "    props = df_meta[df_meta['item_id'].isin(ids)]['properties'].apply(lambda x: x.split('|'))\n",
    "    return {i for items in props for i in items}"
   ]
  },
  {
   "cell_type": "code",
   "execution_count": 19,
   "metadata": {},
   "outputs": [
    {
     "data": {
      "text/plain": [
       "(157, ['Childcare', 'Hydrotherapy', 'Computer with Internet'])"
      ]
     },
     "execution_count": 19,
     "metadata": {},
     "output_type": "execute_result"
    }
   ],
   "source": [
    "sfi = get_meta_values('search for item')\n",
    "len(sfi), list(sfi)[:3]"
   ]
  },
  {
   "cell_type": "code",
   "execution_count": 20,
   "metadata": {},
   "outputs": [
    {
     "data": {
      "text/plain": [
       "(157, ['Childcare', 'Hydrotherapy', 'Electric Kettle'])"
      ]
     },
     "execution_count": 20,
     "metadata": {},
     "output_type": "execute_result"
    }
   ],
   "source": [
    "iid = get_meta_values('interaction item deals')\n",
    "len(iid), list(iid)[:3]"
   ]
  },
  {
   "cell_type": "code",
   "execution_count": 22,
   "metadata": {},
   "outputs": [
    {
     "data": {
      "text/plain": [
       "(157, ['Childcare', 'Hydrotherapy', 'Electric Kettle'])"
      ]
     },
     "execution_count": 22,
     "metadata": {},
     "output_type": "execute_result"
    }
   ],
   "source": [
    "iii = get_meta_values('interaction item image')\n",
    "len(iii), list(iii)[:3]"
   ]
  },
  {
   "cell_type": "code",
   "execution_count": 21,
   "metadata": {},
   "outputs": [
    {
     "data": {
      "text/plain": [
       "(157, ['Childcare', 'Hydrotherapy', 'Computer with Internet'])"
      ]
     },
     "execution_count": 21,
     "metadata": {},
     "output_type": "execute_result"
    }
   ],
   "source": [
    "iiinf = get_meta_values('interaction item info')\n",
    "len(iiinf), list(iiinf)[:3]"
   ]
  },
  {
   "cell_type": "code",
   "execution_count": 23,
   "metadata": {},
   "outputs": [
    {
     "data": {
      "text/plain": [
       "(157, ['Childcare', 'Hydrotherapy', 'Computer with Internet'])"
      ]
     },
     "execution_count": 23,
     "metadata": {},
     "output_type": "execute_result"
    }
   ],
   "source": [
    "iir = get_meta_values('interaction item rating')\n",
    "len(iir), list(iir)[:3]"
   ]
  },
  {
   "cell_type": "markdown",
   "metadata": {},
   "source": [
    "### Clickout item"
   ]
  },
  {
   "cell_type": "code",
   "execution_count": 24,
   "metadata": {},
   "outputs": [
    {
     "data": {
      "text/html": [
       "<div>\n",
       "<style scoped>\n",
       "    .dataframe tbody tr th:only-of-type {\n",
       "        vertical-align: middle;\n",
       "    }\n",
       "\n",
       "    .dataframe tbody tr th {\n",
       "        vertical-align: top;\n",
       "    }\n",
       "\n",
       "    .dataframe thead th {\n",
       "        text-align: right;\n",
       "    }\n",
       "</style>\n",
       "<table border=\"1\" class=\"dataframe\">\n",
       "  <thead>\n",
       "    <tr style=\"text-align: right;\">\n",
       "      <th></th>\n",
       "      <th>user_id</th>\n",
       "      <th>session_id</th>\n",
       "      <th>timestamp</th>\n",
       "      <th>step</th>\n",
       "      <th>action_type</th>\n",
       "      <th>reference</th>\n",
       "      <th>platform</th>\n",
       "      <th>city</th>\n",
       "      <th>device</th>\n",
       "      <th>current_filters</th>\n",
       "      <th>impressions</th>\n",
       "      <th>prices</th>\n",
       "    </tr>\n",
       "  </thead>\n",
       "  <tbody>\n",
       "    <tr>\n",
       "      <th>13</th>\n",
       "      <td>00RL8Z82B2Z1</td>\n",
       "      <td>aff3928535f48</td>\n",
       "      <td>1541037543</td>\n",
       "      <td>14</td>\n",
       "      <td>clickout item</td>\n",
       "      <td>109038</td>\n",
       "      <td>AU</td>\n",
       "      <td>Sydney, Australia</td>\n",
       "      <td>mobile</td>\n",
       "      <td>NaN</td>\n",
       "      <td>3400638|1253714|3367857|5100540|1088584|666916...</td>\n",
       "      <td>95|66|501|112|95|100|101|72|82|56|56|143|70|25...</td>\n",
       "    </tr>\n",
       "    <tr>\n",
       "      <th>15</th>\n",
       "      <td>00RL8Z82B2Z1</td>\n",
       "      <td>aff3928535f48</td>\n",
       "      <td>1541038485</td>\n",
       "      <td>16</td>\n",
       "      <td>clickout item</td>\n",
       "      <td>1257342</td>\n",
       "      <td>AU</td>\n",
       "      <td>Sydney, Australia</td>\n",
       "      <td>mobile</td>\n",
       "      <td>NaN</td>\n",
       "      <td>55109|129343|54824|2297972|109014|1257342|1031...</td>\n",
       "      <td>162|25|150|143|101|49|118|131|18|100|101|143|5...</td>\n",
       "    </tr>\n",
       "    <tr>\n",
       "      <th>115</th>\n",
       "      <td>02SRUT1NQYH1</td>\n",
       "      <td>3599a6f709eab</td>\n",
       "      <td>1541063864</td>\n",
       "      <td>35</td>\n",
       "      <td>clickout item</td>\n",
       "      <td>2795374</td>\n",
       "      <td>FI</td>\n",
       "      <td>Krakow, Poland</td>\n",
       "      <td>mobile</td>\n",
       "      <td>NaN</td>\n",
       "      <td>2795374|5582964|1088390|2781070|1258068|127196...</td>\n",
       "      <td>64|54|36|121|76|81|92|40|73|52|98|104|56|414|6...</td>\n",
       "    </tr>\n",
       "  </tbody>\n",
       "</table>\n",
       "</div>"
      ],
      "text/plain": [
       "          user_id     session_id   timestamp  step    action_type reference  \\\n",
       "13   00RL8Z82B2Z1  aff3928535f48  1541037543    14  clickout item    109038   \n",
       "15   00RL8Z82B2Z1  aff3928535f48  1541038485    16  clickout item   1257342   \n",
       "115  02SRUT1NQYH1  3599a6f709eab  1541063864    35  clickout item   2795374   \n",
       "\n",
       "    platform               city  device current_filters  \\\n",
       "13        AU  Sydney, Australia  mobile             NaN   \n",
       "15        AU  Sydney, Australia  mobile             NaN   \n",
       "115       FI     Krakow, Poland  mobile             NaN   \n",
       "\n",
       "                                           impressions  \\\n",
       "13   3400638|1253714|3367857|5100540|1088584|666916...   \n",
       "15   55109|129343|54824|2297972|109014|1257342|1031...   \n",
       "115  2795374|5582964|1088390|2781070|1258068|127196...   \n",
       "\n",
       "                                                prices  \n",
       "13   95|66|501|112|95|100|101|72|82|56|56|143|70|25...  \n",
       "15   162|25|150|143|101|49|118|131|18|100|101|143|5...  \n",
       "115  64|54|36|121|76|81|92|40|73|52|98|104|56|414|6...  "
      ]
     },
     "execution_count": 24,
     "metadata": {},
     "output_type": "execute_result"
    }
   ],
   "source": [
    "df_train[df_train['action_type'] == 'clickout item'].head(3)"
   ]
  },
  {
   "cell_type": "markdown",
   "metadata": {},
   "source": [
    "---"
   ]
  },
  {
   "cell_type": "code",
   "execution_count": 26,
   "metadata": {},
   "outputs": [
    {
     "data": {
      "text/plain": [
       "count   910683.000000\n",
       "mean        17.495651\n",
       "std         48.181687\n",
       "min          1.000000\n",
       "25%          2.000000\n",
       "50%          4.000000\n",
       "75%         13.000000\n",
       "max       3522.000000\n",
       "Name: step, dtype: float64"
      ]
     },
     "execution_count": 26,
     "metadata": {},
     "output_type": "execute_result"
    }
   ],
   "source": [
    "df_train.groupby('session_id')['step'].count().describe()"
   ]
  },
  {
   "cell_type": "code",
   "execution_count": 245,
   "metadata": {},
   "outputs": [],
   "source": [
    "def extract_seqs(group):\n",
    "    group['session_id']\n",
    "    group['action_type']"
   ]
  },
  {
   "cell_type": "code",
   "execution_count": 227,
   "metadata": {},
   "outputs": [],
   "source": [
    "groups = df_train.groupby('session_id')"
   ]
  },
  {
   "cell_type": "code",
   "execution_count": 232,
   "metadata": {},
   "outputs": [],
   "source": [
    "df = df_train.sample(frac=0.01)"
   ]
  },
  {
   "cell_type": "code",
   "execution_count": 233,
   "metadata": {},
   "outputs": [
    {
     "data": {
      "text/plain": [
       "159330"
      ]
     },
     "execution_count": 233,
     "metadata": {},
     "output_type": "execute_result"
    }
   ],
   "source": [
    "len(df)"
   ]
  },
  {
   "cell_type": "code",
   "execution_count": 241,
   "metadata": {},
   "outputs": [],
   "source": [
    "groups = df.groupby('session_id')"
   ]
  },
  {
   "cell_type": "code",
   "execution_count": 250,
   "metadata": {},
   "outputs": [
    {
     "name": "stdout",
     "output_type": "stream",
     "text": [
      "CPU times: user 8.68 s, sys: 3.24 ms, total: 8.69 s\n",
      "Wall time: 8.69 s\n"
     ]
    }
   ],
   "source": [
    "%%time\n",
    "train = pd.DataFrame({\n",
    "    'action_type_seq': groups.apply(lambda x: x['action_type'].tolist()),\n",
    "    'reference_seq': groups.apply(lambda x: x['reference'].tolist()),\n",
    "}).reset_index()"
   ]
  },
  {
   "cell_type": "code",
   "execution_count": 254,
   "metadata": {},
   "outputs": [
    {
     "data": {
      "text/html": [
       "<div>\n",
       "<style scoped>\n",
       "    .dataframe tbody tr th:only-of-type {\n",
       "        vertical-align: middle;\n",
       "    }\n",
       "\n",
       "    .dataframe tbody tr th {\n",
       "        vertical-align: top;\n",
       "    }\n",
       "\n",
       "    .dataframe thead th {\n",
       "        text-align: right;\n",
       "    }\n",
       "</style>\n",
       "<table border=\"1\" class=\"dataframe\">\n",
       "  <thead>\n",
       "    <tr style=\"text-align: right;\">\n",
       "      <th></th>\n",
       "      <th>session_id</th>\n",
       "      <th>action_type_seq</th>\n",
       "      <th>reference_seq</th>\n",
       "    </tr>\n",
       "  </thead>\n",
       "  <tbody>\n",
       "    <tr>\n",
       "      <th>0</th>\n",
       "      <td>00000510f1adc</td>\n",
       "      <td>[clickout item]</td>\n",
       "      <td>[7281198]</td>\n",
       "    </tr>\n",
       "    <tr>\n",
       "      <th>1</th>\n",
       "      <td>000066611146f</td>\n",
       "      <td>[clickout item]</td>\n",
       "      <td>[5479306]</td>\n",
       "    </tr>\n",
       "    <tr>\n",
       "      <th>2</th>\n",
       "      <td>00019f78d2c36</td>\n",
       "      <td>[interaction item image]</td>\n",
       "      <td>[4755476]</td>\n",
       "    </tr>\n",
       "    <tr>\n",
       "      <th>3</th>\n",
       "      <td>0001e610ce498</td>\n",
       "      <td>[interaction item image, interaction item image]</td>\n",
       "      <td>[1257216, 488901]</td>\n",
       "    </tr>\n",
       "    <tr>\n",
       "      <th>4</th>\n",
       "      <td>0001fe0007954</td>\n",
       "      <td>[change of sort order]</td>\n",
       "      <td>[price and recommended]</td>\n",
       "    </tr>\n",
       "    <tr>\n",
       "      <th>5</th>\n",
       "      <td>00030305c6aa7</td>\n",
       "      <td>[filter selection]</td>\n",
       "      <td>[Hostal (ES)]</td>\n",
       "    </tr>\n",
       "    <tr>\n",
       "      <th>6</th>\n",
       "      <td>00033ccbbcdd4</td>\n",
       "      <td>[interaction item image]</td>\n",
       "      <td>[3854580]</td>\n",
       "    </tr>\n",
       "    <tr>\n",
       "      <th>7</th>\n",
       "      <td>00040aa1d0a4d</td>\n",
       "      <td>[interaction item image]</td>\n",
       "      <td>[104874]</td>\n",
       "    </tr>\n",
       "    <tr>\n",
       "      <th>8</th>\n",
       "      <td>0005174c23dcb</td>\n",
       "      <td>[interaction item info]</td>\n",
       "      <td>[1134551]</td>\n",
       "    </tr>\n",
       "    <tr>\n",
       "      <th>9</th>\n",
       "      <td>000543ecdcf0f</td>\n",
       "      <td>[interaction item image, interaction item imag...</td>\n",
       "      <td>[3758872, 3758872, 124561, 3758872]</td>\n",
       "    </tr>\n",
       "  </tbody>\n",
       "</table>\n",
       "</div>"
      ],
      "text/plain": [
       "      session_id                                    action_type_seq  \\\n",
       "0  00000510f1adc                                    [clickout item]   \n",
       "1  000066611146f                                    [clickout item]   \n",
       "2  00019f78d2c36                           [interaction item image]   \n",
       "3  0001e610ce498   [interaction item image, interaction item image]   \n",
       "4  0001fe0007954                             [change of sort order]   \n",
       "5  00030305c6aa7                                 [filter selection]   \n",
       "6  00033ccbbcdd4                           [interaction item image]   \n",
       "7  00040aa1d0a4d                           [interaction item image]   \n",
       "8  0005174c23dcb                            [interaction item info]   \n",
       "9  000543ecdcf0f  [interaction item image, interaction item imag...   \n",
       "\n",
       "                         reference_seq  \n",
       "0                            [7281198]  \n",
       "1                            [5479306]  \n",
       "2                            [4755476]  \n",
       "3                    [1257216, 488901]  \n",
       "4              [price and recommended]  \n",
       "5                        [Hostal (ES)]  \n",
       "6                            [3854580]  \n",
       "7                             [104874]  \n",
       "8                            [1134551]  \n",
       "9  [3758872, 3758872, 124561, 3758872]  "
      ]
     },
     "execution_count": 254,
     "metadata": {},
     "output_type": "execute_result"
    }
   ],
   "source": [
    "train[:10]"
   ]
  },
  {
   "cell_type": "code",
   "execution_count": 263,
   "metadata": {},
   "outputs": [],
   "source": [
    "impr = groups.apply(lambda x: x[~x['impressions'].isna()]['impressions'].tolist())"
   ]
  },
  {
   "cell_type": "markdown",
   "metadata": {},
   "source": [
    "---"
   ]
  },
  {
   "cell_type": "code",
   "execution_count": 33,
   "metadata": {},
   "outputs": [],
   "source": [
    "dataset = tf.data.Dataset.from_tensor_slices(\n",
    "   {\"a\": tf.random_uniform([4]),\n",
    "    \"b\": tf.random_uniform([4, 100], maxval=100, dtype=tf.int32)})"
   ]
  },
  {
   "cell_type": "code",
   "execution_count": 35,
   "metadata": {},
   "outputs": [],
   "source": [
    "sess = tf.Session()"
   ]
  },
  {
   "cell_type": "code",
   "execution_count": 36,
   "metadata": {},
   "outputs": [],
   "source": [
    "max_value = tf.placeholder(tf.int64, shape=[])\n",
    "dataset = tf.data.Dataset.range(max_value)\n",
    "iterator = dataset.make_initializable_iterator()\n",
    "next_element = iterator.get_next()\n",
    "\n",
    "# Initialize an iterator over a dataset with 10 elements.\n",
    "sess.run(iterator.initializer, feed_dict={max_value: 10})\n",
    "for i in range(10):\n",
    "  value = sess.run(next_element)\n",
    "  assert i == value"
   ]
  },
  {
   "cell_type": "code",
   "execution_count": 7,
   "metadata": {},
   "outputs": [],
   "source": [
    "dataset = tf.data.experimental.CsvDataset(\n",
    "    ['item_metadata.csv'],\n",
    "    [tf.int32, tf.string],\n",
    "    header=True\n",
    ")\n",
    "\n",
    "dataset = dataset.map(lambda idx, row: (idx, tf.string_split([row], '|')))"
   ]
  },
  {
   "cell_type": "code",
   "execution_count": 8,
   "metadata": {},
   "outputs": [
    {
     "name": "stdout",
     "output_type": "stream",
     "text": [
      "WARNING:tensorflow:From C:\\Users\\i4ko9\\Anaconda3\\lib\\site-packages\\tensorflow\\python\\data\\ops\\iterator_ops.py:532: colocate_with (from tensorflow.python.framework.ops) is deprecated and will be removed in a future version.\n",
      "Instructions for updating:\n",
      "Colocations handled automatically by placer.\n"
     ]
    }
   ],
   "source": [
    "next_item = dataset.make_one_shot_iterator().get_next()"
   ]
  }
 ],
 "metadata": {
  "kernelspec": {
   "display_name": "Python 3",
   "language": "python",
   "name": "python3"
  },
  "language_info": {
   "codemirror_mode": {
    "name": "ipython",
    "version": 3
   },
   "file_extension": ".py",
   "mimetype": "text/x-python",
   "name": "python",
   "nbconvert_exporter": "python",
   "pygments_lexer": "ipython3",
   "version": "3.7.1"
  }
 },
 "nbformat": 4,
 "nbformat_minor": 2
}
